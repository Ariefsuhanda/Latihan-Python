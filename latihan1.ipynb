nama="arief suhanda"
alamat="bukittinggi"
mahasiswa="true"
print("nama =", nama)
print("alamat=", alamat)
if (mahasiswa) :
print("status= Mahasiswa")
else
print("status=mahasiswa")
