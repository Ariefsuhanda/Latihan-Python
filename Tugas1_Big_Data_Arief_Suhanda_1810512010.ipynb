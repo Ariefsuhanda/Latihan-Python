{
  "nbformat": 4,
  "nbformat_minor": 0,
  "metadata": {
    "colab": {
      "name": "Tugas1_Big Data_Arief Suhanda_1810512010",
      "provenance": [],
      "authorship_tag": "ABX9TyOPjS4shOGFMigpAc+SQFXy",
      "include_colab_link": true
    },
    "kernelspec": {
      "name": "python3",
      "display_name": "Python 3"
    },
    "language_info": {
      "name": "python"
    }
  },
  "cells": [
    {
      "cell_type": "markdown",
      "metadata": {
        "id": "view-in-github",
        "colab_type": "text"
      },
      "source": [
        "<a href=\"https://colab.research.google.com/github/Ariefsuhanda/Latihan-Python/blob/main/Tugas1_Big_Data_Arief_Suhanda_1810512010.ipynb\" target=\"_parent\"><img src=\"https://colab.research.google.com/assets/colab-badge.svg\" alt=\"Open In Colab\"/></a>"
      ]
    },
    {
      "cell_type": "markdown",
      "metadata": {
        "id": "26yhwHUKm9O4"
      },
      "source": [
        "# **Error and Debugging**\n",
        "Membangun koding dan analisis data membutuhkan trial dan error\n",
        "# **Controlling Exceptions: %xmode**\n",
        "Sering kali ketika scirpt python gagal, akan muncul pengecualian jika dapat menemukan informasinya di traceback yang biasanya diakses di dalam python dengan %xmode magic function. "
      ]
    },
    {
      "cell_type": "code",
      "metadata": {
        "id": "7IUXi_f9nCtx"
      },
      "source": [
        "def func1(a, b):\n",
        "  return a/b\n",
        "def func2(x):\n",
        "  a = x\n",
        "  b = x - 1\n",
        "  return func1(a, b)"
      ],
      "execution_count": 1,
      "outputs": []
    },
    {
      "cell_type": "code",
      "metadata": {
        "colab": {
          "base_uri": "https://localhost:8080/",
          "height": 306
        },
        "id": "qnjrY1KGnITL",
        "outputId": "150a44c1-d477-4c3a-c6c9-9b24f8179592"
      },
      "source": [
        "func2(1)"
      ],
      "execution_count": 2,
      "outputs": [
        {
          "output_type": "error",
          "ename": "ZeroDivisionError",
          "evalue": "ignored",
          "traceback": [
            "\u001b[0;31m---------------------------------------------------------------------------\u001b[0m",
            "\u001b[0;31mZeroDivisionError\u001b[0m                         Traceback (most recent call last)",
            "\u001b[0;32m<ipython-input-2-7cb498ea7ed1>\u001b[0m in \u001b[0;36m<module>\u001b[0;34m()\u001b[0m\n\u001b[0;32m----> 1\u001b[0;31m \u001b[0mfunc2\u001b[0m\u001b[0;34m(\u001b[0m\u001b[0;36m1\u001b[0m\u001b[0;34m)\u001b[0m\u001b[0;34m\u001b[0m\u001b[0;34m\u001b[0m\u001b[0m\n\u001b[0m",
            "\u001b[0;32m<ipython-input-1-ac682de8c12c>\u001b[0m in \u001b[0;36mfunc2\u001b[0;34m(x)\u001b[0m\n\u001b[1;32m      4\u001b[0m   \u001b[0ma\u001b[0m \u001b[0;34m=\u001b[0m \u001b[0mx\u001b[0m\u001b[0;34m\u001b[0m\u001b[0;34m\u001b[0m\u001b[0m\n\u001b[1;32m      5\u001b[0m   \u001b[0mb\u001b[0m \u001b[0;34m=\u001b[0m \u001b[0mx\u001b[0m \u001b[0;34m-\u001b[0m \u001b[0;36m1\u001b[0m\u001b[0;34m\u001b[0m\u001b[0;34m\u001b[0m\u001b[0m\n\u001b[0;32m----> 6\u001b[0;31m   \u001b[0;32mreturn\u001b[0m \u001b[0mfunc1\u001b[0m\u001b[0;34m(\u001b[0m\u001b[0ma\u001b[0m\u001b[0;34m,\u001b[0m \u001b[0mb\u001b[0m\u001b[0;34m)\u001b[0m\u001b[0;34m\u001b[0m\u001b[0;34m\u001b[0m\u001b[0m\n\u001b[0m",
            "\u001b[0;32m<ipython-input-1-ac682de8c12c>\u001b[0m in \u001b[0;36mfunc1\u001b[0;34m(a, b)\u001b[0m\n\u001b[1;32m      1\u001b[0m \u001b[0;32mdef\u001b[0m \u001b[0mfunc1\u001b[0m\u001b[0;34m(\u001b[0m\u001b[0ma\u001b[0m\u001b[0;34m,\u001b[0m \u001b[0mb\u001b[0m\u001b[0;34m)\u001b[0m\u001b[0;34m:\u001b[0m\u001b[0;34m\u001b[0m\u001b[0;34m\u001b[0m\u001b[0m\n\u001b[0;32m----> 2\u001b[0;31m   \u001b[0;32mreturn\u001b[0m \u001b[0ma\u001b[0m\u001b[0;34m/\u001b[0m\u001b[0mb\u001b[0m\u001b[0;34m\u001b[0m\u001b[0;34m\u001b[0m\u001b[0m\n\u001b[0m\u001b[1;32m      3\u001b[0m \u001b[0;32mdef\u001b[0m \u001b[0mfunc2\u001b[0m\u001b[0;34m(\u001b[0m\u001b[0mx\u001b[0m\u001b[0;34m)\u001b[0m\u001b[0;34m:\u001b[0m\u001b[0;34m\u001b[0m\u001b[0;34m\u001b[0m\u001b[0m\n\u001b[1;32m      4\u001b[0m   \u001b[0ma\u001b[0m \u001b[0;34m=\u001b[0m \u001b[0mx\u001b[0m\u001b[0;34m\u001b[0m\u001b[0;34m\u001b[0m\u001b[0m\n\u001b[1;32m      5\u001b[0m   \u001b[0mb\u001b[0m \u001b[0;34m=\u001b[0m \u001b[0mx\u001b[0m \u001b[0;34m-\u001b[0m \u001b[0;36m1\u001b[0m\u001b[0;34m\u001b[0m\u001b[0;34m\u001b[0m\u001b[0m\n",
            "\u001b[0;31mZeroDivisionError\u001b[0m: division by zero"
          ]
        }
      ]
    },
    {
      "cell_type": "markdown",
      "metadata": {
        "id": "ajBjPGiQnMMt"
      },
      "source": [
        "hasil func2 adalah error. Selanjutnya dengan menggunakan %xmode function, kita dapat mengubah informasi yang di print"
      ]
    },
    {
      "cell_type": "code",
      "metadata": {
        "colab": {
          "base_uri": "https://localhost:8080/"
        },
        "id": "9ak2ANaWnOBQ",
        "outputId": "60b45c8e-0123-4941-cd52-ec48e08dc0ae"
      },
      "source": [
        "%xmode Plain"
      ],
      "execution_count": 3,
      "outputs": [
        {
          "output_type": "stream",
          "text": [
            "Exception reporting mode: Plain\n"
          ],
          "name": "stdout"
        }
      ]
    },
    {
      "cell_type": "code",
      "metadata": {
        "colab": {
          "base_uri": "https://localhost:8080/",
          "height": 238
        },
        "id": "E7N1qe2KosXO",
        "outputId": "df5c3784-b185-425a-e08d-85ed9e355a56"
      },
      "source": [
        "func2(1)"
      ],
      "execution_count": 4,
      "outputs": [
        {
          "output_type": "error",
          "ename": "ZeroDivisionError",
          "evalue": "ignored",
          "traceback": [
            "Traceback \u001b[0;36m(most recent call last)\u001b[0m:\n",
            "  File \u001b[1;32m\"<ipython-input-4-7cb498ea7ed1>\"\u001b[0m, line \u001b[1;32m1\u001b[0m, in \u001b[1;35m<module>\u001b[0m\n    func2(1)\n",
            "  File \u001b[1;32m\"<ipython-input-1-ac682de8c12c>\"\u001b[0m, line \u001b[1;32m6\u001b[0m, in \u001b[1;35mfunc2\u001b[0m\n    return func1(a, b)\n",
            "\u001b[0;36m  File \u001b[0;32m\"<ipython-input-1-ac682de8c12c>\"\u001b[0;36m, line \u001b[0;32m2\u001b[0;36m, in \u001b[0;35mfunc1\u001b[0;36m\u001b[0m\n\u001b[0;31m    return a/b\u001b[0m\n",
            "\u001b[0;31mZeroDivisionError\u001b[0m\u001b[0;31m:\u001b[0m division by zero\n"
          ]
        }
      ]
    },
    {
      "cell_type": "markdown",
      "metadata": {
        "id": "JGf79l--owAZ"
      },
      "source": [
        "mode verbose menambahkan beberapa fungsi, termasuk argumen fungsi seperti"
      ]
    },
    {
      "cell_type": "code",
      "metadata": {
        "colab": {
          "base_uri": "https://localhost:8080/"
        },
        "id": "-igBX2jeoxsh",
        "outputId": "48a87566-6eee-4eaa-e960-18b640caac8c"
      },
      "source": [
        "%xmode Verbose"
      ],
      "execution_count": 5,
      "outputs": [
        {
          "output_type": "stream",
          "text": [
            "Exception reporting mode: Verbose\n"
          ],
          "name": "stdout"
        }
      ]
    },
    {
      "cell_type": "code",
      "metadata": {
        "colab": {
          "base_uri": "https://localhost:8080/",
          "height": 357
        },
        "id": "8mhpNjhSo1nS",
        "outputId": "2bcd2b93-59f8-4f10-e081-8322fd53909b"
      },
      "source": [
        "func2(1)"
      ],
      "execution_count": 6,
      "outputs": [
        {
          "output_type": "error",
          "ename": "ZeroDivisionError",
          "evalue": "ignored",
          "traceback": [
            "\u001b[0;31m---------------------------------------------------------------------------\u001b[0m",
            "\u001b[0;31mZeroDivisionError\u001b[0m                         Traceback (most recent call last)",
            "\u001b[0;32m<ipython-input-6-7cb498ea7ed1>\u001b[0m in \u001b[0;36m<module>\u001b[0;34m()\u001b[0m\n\u001b[0;32m----> 1\u001b[0;31m \u001b[0mfunc2\u001b[0m\u001b[0;34m(\u001b[0m\u001b[0;36m1\u001b[0m\u001b[0;34m)\u001b[0m\u001b[0;34m\u001b[0m\u001b[0;34m\u001b[0m\u001b[0m\n\u001b[0m        \u001b[0;36mglobal\u001b[0m \u001b[0;36mfunc2\u001b[0m \u001b[0;34m= <function func2 at 0x7fb6de928050>\u001b[0m\n",
            "\u001b[0;32m<ipython-input-1-ac682de8c12c>\u001b[0m in \u001b[0;36mfunc2\u001b[0;34m(x=1)\u001b[0m\n\u001b[1;32m      4\u001b[0m   \u001b[0ma\u001b[0m \u001b[0;34m=\u001b[0m \u001b[0mx\u001b[0m\u001b[0;34m\u001b[0m\u001b[0;34m\u001b[0m\u001b[0m\n\u001b[1;32m      5\u001b[0m   \u001b[0mb\u001b[0m \u001b[0;34m=\u001b[0m \u001b[0mx\u001b[0m \u001b[0;34m-\u001b[0m \u001b[0;36m1\u001b[0m\u001b[0;34m\u001b[0m\u001b[0;34m\u001b[0m\u001b[0m\n\u001b[0;32m----> 6\u001b[0;31m   \u001b[0;32mreturn\u001b[0m \u001b[0mfunc1\u001b[0m\u001b[0;34m(\u001b[0m\u001b[0ma\u001b[0m\u001b[0;34m,\u001b[0m \u001b[0mb\u001b[0m\u001b[0;34m)\u001b[0m\u001b[0;34m\u001b[0m\u001b[0;34m\u001b[0m\u001b[0m\n\u001b[0m        \u001b[0;36mglobal\u001b[0m \u001b[0;36mfunc1\u001b[0m \u001b[0;34m= <function func1 at 0x7fb6de928290>\u001b[0m\u001b[0;34m\n        \u001b[0m\u001b[0;36ma\u001b[0m \u001b[0;34m= 1\u001b[0m\u001b[0;34m\n        \u001b[0m\u001b[0;36mb\u001b[0m \u001b[0;34m= 0\u001b[0m\n",
            "\u001b[0;32m<ipython-input-1-ac682de8c12c>\u001b[0m in \u001b[0;36mfunc1\u001b[0;34m(a=1, b=0)\u001b[0m\n\u001b[1;32m      1\u001b[0m \u001b[0;32mdef\u001b[0m \u001b[0mfunc1\u001b[0m\u001b[0;34m(\u001b[0m\u001b[0ma\u001b[0m\u001b[0;34m,\u001b[0m \u001b[0mb\u001b[0m\u001b[0;34m)\u001b[0m\u001b[0;34m:\u001b[0m\u001b[0;34m\u001b[0m\u001b[0;34m\u001b[0m\u001b[0m\n\u001b[0;32m----> 2\u001b[0;31m   \u001b[0;32mreturn\u001b[0m \u001b[0ma\u001b[0m\u001b[0;34m/\u001b[0m\u001b[0mb\u001b[0m\u001b[0;34m\u001b[0m\u001b[0;34m\u001b[0m\u001b[0m\n\u001b[0m        \u001b[0;36ma\u001b[0m \u001b[0;34m= 1\u001b[0m\u001b[0;34m\n        \u001b[0m\u001b[0;36mb\u001b[0m \u001b[0;34m= 0\u001b[0m\n\u001b[1;32m      3\u001b[0m \u001b[0;32mdef\u001b[0m \u001b[0mfunc2\u001b[0m\u001b[0;34m(\u001b[0m\u001b[0mx\u001b[0m\u001b[0;34m)\u001b[0m\u001b[0;34m:\u001b[0m\u001b[0;34m\u001b[0m\u001b[0;34m\u001b[0m\u001b[0m\n\u001b[1;32m      4\u001b[0m   \u001b[0ma\u001b[0m \u001b[0;34m=\u001b[0m \u001b[0mx\u001b[0m\u001b[0;34m\u001b[0m\u001b[0;34m\u001b[0m\u001b[0m\n\u001b[1;32m      5\u001b[0m   \u001b[0mb\u001b[0m \u001b[0;34m=\u001b[0m \u001b[0mx\u001b[0m \u001b[0;34m-\u001b[0m \u001b[0;36m1\u001b[0m\u001b[0;34m\u001b[0m\u001b[0;34m\u001b[0m\u001b[0m\n",
            "\u001b[0;31mZeroDivisionError\u001b[0m: division by zero"
          ]
        }
      ]
    },
    {
      "cell_type": "markdown",
      "metadata": {
        "id": "lC-LwwhLo5AY"
      },
      "source": [
        "informasi extra ini membantumu mengetahui lebih detail kenapa exeption/pengecualian itu dimunculkan. Jadi tidak selalu menggunakan verbose mode karena semakin sulit coding maka traceback akan semakin panjang. Tergantung konteksnya, kadang easy mode lebih mudah digunakan."
      ]
    },
    {
      "cell_type": "markdown",
      "metadata": {
        "id": "DS9XIpJTo9x9"
      },
      "source": [
        "# **Debugging: When Reading Tracebacks Is Not Enough**\n",
        "Standar default debugging pada python biasanya pdb. Debugger ini memudahkan pengguna untuk melihat penyebab error. Versi teratasnya adalah ipdb, iPython debugger. Ada banyak cara untuk menggunakan kedua debugger ini. Pada iPython, interface yang paling nyaman adalah command %debug magic. Jika menggunakannya setelah exeption, maka debugging prompt akan otomatis terbuka yang mana kita dapat mengetahui status stack terbaru, jenis variabel, dan menjalankan command. "
      ]
    },
    {
      "cell_type": "code",
      "metadata": {
        "colab": {
          "base_uri": "https://localhost:8080/"
        },
        "id": "DODMAL3no-xA",
        "outputId": "0a7fc6cf-38df-4580-dc44-0541a2f8f44b"
      },
      "source": [
        "%debug"
      ],
      "execution_count": 7,
      "outputs": [
        {
          "output_type": "stream",
          "text": [
            "> \u001b[0;32m<ipython-input-1-ac682de8c12c>\u001b[0m(2)\u001b[0;36mfunc1\u001b[0;34m()\u001b[0m\n",
            "\u001b[0;32m      1 \u001b[0;31m\u001b[0;32mdef\u001b[0m \u001b[0mfunc1\u001b[0m\u001b[0;34m(\u001b[0m\u001b[0ma\u001b[0m\u001b[0;34m,\u001b[0m \u001b[0mb\u001b[0m\u001b[0;34m)\u001b[0m\u001b[0;34m:\u001b[0m\u001b[0;34m\u001b[0m\u001b[0;34m\u001b[0m\u001b[0m\n",
            "\u001b[0m\u001b[0;32m----> 2 \u001b[0;31m  \u001b[0;32mreturn\u001b[0m \u001b[0ma\u001b[0m\u001b[0;34m/\u001b[0m\u001b[0mb\u001b[0m\u001b[0;34m\u001b[0m\u001b[0;34m\u001b[0m\u001b[0m\n",
            "\u001b[0m\u001b[0;32m      3 \u001b[0;31m\u001b[0;32mdef\u001b[0m \u001b[0mfunc2\u001b[0m\u001b[0;34m(\u001b[0m\u001b[0mx\u001b[0m\u001b[0;34m)\u001b[0m\u001b[0;34m:\u001b[0m\u001b[0;34m\u001b[0m\u001b[0;34m\u001b[0m\u001b[0m\n",
            "\u001b[0m\u001b[0;32m      4 \u001b[0;31m  \u001b[0ma\u001b[0m \u001b[0;34m=\u001b[0m \u001b[0mx\u001b[0m\u001b[0;34m\u001b[0m\u001b[0;34m\u001b[0m\u001b[0m\n",
            "\u001b[0m\u001b[0;32m      5 \u001b[0;31m  \u001b[0mb\u001b[0m \u001b[0;34m=\u001b[0m \u001b[0mx\u001b[0m \u001b[0;34m-\u001b[0m \u001b[0;36m1\u001b[0m\u001b[0;34m\u001b[0m\u001b[0;34m\u001b[0m\u001b[0m\n",
            "\u001b[0m\n",
            "ipdb> a\n",
            "a = 1\n",
            "b = 0\n",
            "ipdb> b\n",
            "ipdb> quit\n"
          ],
          "name": "stdout"
        },
        {
          "output_type": "stream",
          "text": [
            "\n",
            "PYDEV DEBUGGER WARNING:\n",
            "sys.settrace() should not be used when the debugger is being used.\n",
            "This may cause the debugger to stop working correctly.\n",
            "If this is needed, please check: \n",
            "http://pydev.blogspot.com/2007/06/why-cant-pydev-debugger-work-with.html\n",
            "to see how to restore the debug tracing back correctly.\n",
            "Call Location:\n",
            "  File \"/usr/lib/python3.7/bdb.py\", line 357, in set_quit\n",
            "    sys.settrace(None)\n",
            "\n"
          ],
          "name": "stderr"
        }
      ]
    },
    {
      "cell_type": "code",
      "metadata": {
        "colab": {
          "base_uri": "https://localhost:8080/"
        },
        "id": "vo_265mspFIk",
        "outputId": "d1f3e0dd-0ca6-47cf-84b1-01153299a62a"
      },
      "source": [
        "%debug"
      ],
      "execution_count": 8,
      "outputs": [
        {
          "output_type": "stream",
          "text": [
            "> \u001b[0;32m<ipython-input-1-ac682de8c12c>\u001b[0m(2)\u001b[0;36mfunc1\u001b[0;34m()\u001b[0m\n",
            "\u001b[0;32m      1 \u001b[0;31m\u001b[0;32mdef\u001b[0m \u001b[0mfunc1\u001b[0m\u001b[0;34m(\u001b[0m\u001b[0ma\u001b[0m\u001b[0;34m,\u001b[0m \u001b[0mb\u001b[0m\u001b[0;34m)\u001b[0m\u001b[0;34m:\u001b[0m\u001b[0;34m\u001b[0m\u001b[0;34m\u001b[0m\u001b[0m\n",
            "\u001b[0m\u001b[0;32m----> 2 \u001b[0;31m  \u001b[0;32mreturn\u001b[0m \u001b[0ma\u001b[0m\u001b[0;34m/\u001b[0m\u001b[0mb\u001b[0m\u001b[0;34m\u001b[0m\u001b[0;34m\u001b[0m\u001b[0m\n",
            "\u001b[0m\u001b[0;32m      3 \u001b[0;31m\u001b[0;32mdef\u001b[0m \u001b[0mfunc2\u001b[0m\u001b[0;34m(\u001b[0m\u001b[0mx\u001b[0m\u001b[0;34m)\u001b[0m\u001b[0;34m:\u001b[0m\u001b[0;34m\u001b[0m\u001b[0;34m\u001b[0m\u001b[0m\n",
            "\u001b[0m\u001b[0;32m      4 \u001b[0;31m  \u001b[0ma\u001b[0m \u001b[0;34m=\u001b[0m \u001b[0mx\u001b[0m\u001b[0;34m\u001b[0m\u001b[0;34m\u001b[0m\u001b[0m\n",
            "\u001b[0m\u001b[0;32m      5 \u001b[0;31m  \u001b[0mb\u001b[0m \u001b[0;34m=\u001b[0m \u001b[0mx\u001b[0m \u001b[0;34m-\u001b[0m \u001b[0;36m1\u001b[0m\u001b[0;34m\u001b[0m\u001b[0;34m\u001b[0m\u001b[0m\n",
            "\u001b[0m\n",
            "ipdb> a\n",
            "a = 1\n",
            "b = 0\n",
            "ipdb> b\n",
            "ipdb> quit\n"
          ],
          "name": "stdout"
        }
      ]
    },
    {
      "cell_type": "markdown",
      "metadata": {
        "id": "fARjYTu0pFfk"
      },
      "source": [
        "dengan ini kita dapat mengetahui penyebab error dengan lebih cepat.\n",
        "Nah, jika ingin debugger otomatis, kapankun debugger dimunculkan, kita dapat menggunakan fungsi %pdb magic"
      ]
    },
    {
      "cell_type": "code",
      "metadata": {
        "colab": {
          "base_uri": "https://localhost:8080/",
          "height": 476
        },
        "id": "tC_UU8q6pICk",
        "outputId": "aeec7bcd-faa2-4bee-a5e6-e501b26bb784"
      },
      "source": [
        "%xmode Plain\n",
        "%pdb on\n",
        "func2(1)"
      ],
      "execution_count": 9,
      "outputs": [
        {
          "output_type": "stream",
          "text": [
            "Exception reporting mode: Plain\n",
            "Automatic pdb calling has been turned ON\n"
          ],
          "name": "stdout"
        },
        {
          "output_type": "error",
          "ename": "ZeroDivisionError",
          "evalue": "ignored",
          "traceback": [
            "Traceback \u001b[0;36m(most recent call last)\u001b[0m:\n",
            "  File \u001b[1;32m\"<ipython-input-9-9340853ee553>\"\u001b[0m, line \u001b[1;32m3\u001b[0m, in \u001b[1;35m<module>\u001b[0m\n    func2(1)\n",
            "  File \u001b[1;32m\"<ipython-input-1-ac682de8c12c>\"\u001b[0m, line \u001b[1;32m6\u001b[0m, in \u001b[1;35mfunc2\u001b[0m\n    return func1(a, b)\n",
            "\u001b[0;36m  File \u001b[0;32m\"<ipython-input-1-ac682de8c12c>\"\u001b[0;36m, line \u001b[0;32m2\u001b[0;36m, in \u001b[0;35mfunc1\u001b[0;36m\u001b[0m\n\u001b[0;31m    return a/b\u001b[0m\n",
            "\u001b[0;31mZeroDivisionError\u001b[0m\u001b[0;31m:\u001b[0m division by zero\n"
          ]
        },
        {
          "output_type": "stream",
          "text": [
            "> \u001b[0;32m<ipython-input-1-ac682de8c12c>\u001b[0m(2)\u001b[0;36mfunc1\u001b[0;34m()\u001b[0m\n",
            "\u001b[0;32m      1 \u001b[0;31m\u001b[0;32mdef\u001b[0m \u001b[0mfunc1\u001b[0m\u001b[0;34m(\u001b[0m\u001b[0ma\u001b[0m\u001b[0;34m,\u001b[0m \u001b[0mb\u001b[0m\u001b[0;34m)\u001b[0m\u001b[0;34m:\u001b[0m\u001b[0;34m\u001b[0m\u001b[0;34m\u001b[0m\u001b[0m\n",
            "\u001b[0m\u001b[0;32m----> 2 \u001b[0;31m  \u001b[0;32mreturn\u001b[0m \u001b[0ma\u001b[0m\u001b[0;34m/\u001b[0m\u001b[0mb\u001b[0m\u001b[0;34m\u001b[0m\u001b[0;34m\u001b[0m\u001b[0m\n",
            "\u001b[0m\u001b[0;32m      3 \u001b[0;31m\u001b[0;32mdef\u001b[0m \u001b[0mfunc2\u001b[0m\u001b[0;34m(\u001b[0m\u001b[0mx\u001b[0m\u001b[0;34m)\u001b[0m\u001b[0;34m:\u001b[0m\u001b[0;34m\u001b[0m\u001b[0;34m\u001b[0m\u001b[0m\n",
            "\u001b[0m\u001b[0;32m      4 \u001b[0;31m  \u001b[0ma\u001b[0m \u001b[0;34m=\u001b[0m \u001b[0mx\u001b[0m\u001b[0;34m\u001b[0m\u001b[0;34m\u001b[0m\u001b[0m\n",
            "\u001b[0m\u001b[0;32m      5 \u001b[0;31m  \u001b[0mb\u001b[0m \u001b[0;34m=\u001b[0m \u001b[0mx\u001b[0m \u001b[0;34m-\u001b[0m \u001b[0;36m1\u001b[0m\u001b[0;34m\u001b[0m\u001b[0;34m\u001b[0m\u001b[0m\n",
            "\u001b[0m\n",
            "ipdb> print(a)\n",
            "1\n",
            "ipdb> print(b)\n",
            "0\n",
            "ipdb> quit\n"
          ],
          "name": "stdout"
        }
      ]
    },
    {
      "cell_type": "markdown",
      "metadata": {
        "id": "BQEHLTwCpKQQ"
      },
      "source": [
        "Terakhir, jika Anda memiliki skrip yang ingin Anda jalankan dari awal secara interaktif\n",
        "mode, Anda dapat menjalankannya dengan perintah% run -d, dan menggunakan perintah selanjutnya untuk melangkah\n",
        "melalui baris kode secara interaktif."
      ]
    },
    {
      "cell_type": "markdown",
      "metadata": {
        "id": "GIr6JEm0pO9T"
      },
      "source": [
        "# **Profiling and Timing Code**\n",
        "Dalam membangun coding dan menganalisis data selalu muncul trade-off antara beberapa impementasi. Donald Knuth pernah berkata, \"Kita harus melupakan efisiensi kecil, katakanlah sekitar 97% sepanjang waktu: pengoptimalan prematur adalah akar dari segala kejahatan. \"\n",
        "Tetapi, ketika coding kamu bekerja akan lebih mudah untuk lebih efisien. Terkadang berguna untuk memeriksa waktu eksekusi dari perintah atau kumpulan perintah tertentu mands; di lain waktu, akan berguna untuk menggali proses multiline dan menentukan di mana kemacetan terletak pada beberapa rangkaian operasi yang rumit. IPython menyediakan akses ke file beragam fungsionalitas untuk jenis pengaturan waktu dan pembuatan profil kode ini\n",
        "\n",
        "# **Timing Code Snippets: %timeit and %time**\n",
        "%%timeit dapat digunakan untuk eksekusi pengulangan\n",
        "\n"
      ]
    },
    {
      "cell_type": "code",
      "metadata": {
        "colab": {
          "base_uri": "https://localhost:8080/"
        },
        "id": "Zm6bJolgpPt9",
        "outputId": "5f4f96ad-ba19-4ab7-9e68-36cccd3ed304"
      },
      "source": [
        "%timeit sum(range(100))"
      ],
      "execution_count": 10,
      "outputs": [
        {
          "output_type": "stream",
          "text": [
            "1000000 loops, best of 5: 1.11 µs per loop\n"
          ],
          "name": "stdout"
        }
      ]
    },
    {
      "cell_type": "markdown",
      "metadata": {
        "id": "SX6_yXv-pWta"
      },
      "source": [
        "Perlu diingat karena operasi ini sangat cepat, %timeit untuk angka yang besar secara otomatis dijalankan. Untuk command yang lebih rendah, %timeit akan secara otomatis mengulang :\n"
      ]
    },
    {
      "cell_type": "code",
      "metadata": {
        "colab": {
          "base_uri": "https://localhost:8080/",
          "height": 129
        },
        "id": "jQVSxb1mpY_V",
        "outputId": "4f7af835-a70d-4a50-b4e0-ea7bc7d78cf9"
      },
      "source": [
        "%%timeit\n",
        " total = 0\n",
        " for i in range(1000):\n",
        " for j in range(1000):\n",
        " total += i * (-1) ** j"
      ],
      "execution_count": 11,
      "outputs": [
        {
          "output_type": "error",
          "ename": "IndentationError",
          "evalue": "ignored",
          "traceback": [
            "\u001b[0;36m  File \u001b[0;32m\"<unknown>\"\u001b[0;36m, line \u001b[0;32m3\u001b[0m\n\u001b[0;31m    for j in range(1000):\u001b[0m\n\u001b[0m      ^\u001b[0m\n\u001b[0;31mIndentationError\u001b[0m\u001b[0;31m:\u001b[0m expected an indented block\n"
          ]
        }
      ]
    },
    {
      "cell_type": "markdown",
      "metadata": {
        "id": "ogQhzsscvC_N"
      },
      "source": [
        "Terakadang mengulang operasi bukanlah opsi terbaik. contohnya, Jika kita punya list yang kita sotir, mungkin saja jadi salah karena operasi yang diulang ulang.Menyortir daftar prasortir jauh lebih cepat daripada menyortir daftar yang tidak disortir, sehingga pengulangan akan memiringkan\n",
        "hasil:\n"
      ]
    },
    {
      "cell_type": "code",
      "metadata": {
        "colab": {
          "base_uri": "https://localhost:8080/",
          "height": 129
        },
        "id": "C2GhLYftvF95",
        "outputId": "b4859aef-e26e-4ba2-e857-f6207bdee7f1"
      },
      "source": [
        "import random\n",
        " L = [random.random() for i in range(100000)]\n",
        " %timeit L.sort()"
      ],
      "execution_count": 12,
      "outputs": [
        {
          "output_type": "error",
          "ename": "IndentationError",
          "evalue": "ignored",
          "traceback": [
            "\u001b[0;36m  File \u001b[0;32m\"<ipython-input-12-e7bde809ef66>\"\u001b[0;36m, line \u001b[0;32m2\u001b[0m\n\u001b[0;31m    L = [random.random() for i in range(100000)]\u001b[0m\n\u001b[0m    ^\u001b[0m\n\u001b[0;31mIndentationError\u001b[0m\u001b[0;31m:\u001b[0m unexpected indent\n"
          ]
        }
      ]
    },
    {
      "cell_type": "markdown",
      "metadata": {
        "id": "WJI9mLRuvIIS"
      },
      "source": [
        "Fungsi %time magic mungkin aadalah pilihan terbaik. Ini juga pilihan bagus untuk command yang panjang, kalau pendek akan delay\n"
      ]
    },
    {
      "cell_type": "code",
      "metadata": {
        "colab": {
          "base_uri": "https://localhost:8080/",
          "height": 129
        },
        "id": "aVtWacFwvKhd",
        "outputId": "391bfe84-905f-4208-8892-345485d5f159"
      },
      "source": [
        "import random\n",
        " L = [random.random() for i in range(100000)]\n",
        " print(\"sorting an unsorted list:\")\n",
        " %time L.sort()"
      ],
      "execution_count": 13,
      "outputs": [
        {
          "output_type": "error",
          "ename": "IndentationError",
          "evalue": "ignored",
          "traceback": [
            "\u001b[0;36m  File \u001b[0;32m\"<ipython-input-13-8054136026ee>\"\u001b[0;36m, line \u001b[0;32m2\u001b[0m\n\u001b[0;31m    L = [random.random() for i in range(100000)]\u001b[0m\n\u001b[0m    ^\u001b[0m\n\u001b[0;31mIndentationError\u001b[0m\u001b[0;31m:\u001b[0m unexpected indent\n"
          ]
        }
      ]
    },
    {
      "cell_type": "code",
      "metadata": {
        "colab": {
          "base_uri": "https://localhost:8080/",
          "height": 129
        },
        "id": "Wts7U6cWvMa6",
        "outputId": "bca89f43-e895-4ce5-9eb6-61f2bd99acdf"
      },
      "source": [
        "print(\"sorting an already sorted list:\")\n",
        " %time L.sort()\n"
      ],
      "execution_count": 14,
      "outputs": [
        {
          "output_type": "error",
          "ename": "IndentationError",
          "evalue": "ignored",
          "traceback": [
            "\u001b[0;36m  File \u001b[0;32m\"<ipython-input-14-30f1b4dd423b>\"\u001b[0;36m, line \u001b[0;32m2\u001b[0m\n\u001b[0;31m    get_ipython().magic('time L.sort()')\u001b[0m\n\u001b[0m    ^\u001b[0m\n\u001b[0;31mIndentationError\u001b[0m\u001b[0;31m:\u001b[0m unexpected indent\n"
          ]
        }
      ]
    },
    {
      "cell_type": "code",
      "metadata": {
        "colab": {
          "base_uri": "https://localhost:8080/",
          "height": 129
        },
        "id": "fk4U47TYvOKp",
        "outputId": "53ce45b3-ccb2-4d53-a172-5f6b1486fbcf"
      },
      "source": [
        "%%time\n",
        " total = 0\n",
        " for i in range(1000):\n",
        " for j in range(1000):\n",
        " total += i * (-1) ** j"
      ],
      "execution_count": 15,
      "outputs": [
        {
          "output_type": "error",
          "ename": "IndentationError",
          "evalue": "ignored",
          "traceback": [
            "\u001b[0;36m  File \u001b[0;32m\"<unknown>\"\u001b[0;36m, line \u001b[0;32m3\u001b[0m\n\u001b[0;31m    for j in range(1000):\u001b[0m\n\u001b[0m      ^\u001b[0m\n\u001b[0;31mIndentationError\u001b[0m\u001b[0;31m:\u001b[0m expected an indented block\n"
          ]
        }
      ]
    },
    {
      "cell_type": "markdown",
      "metadata": {
        "id": "8_d2pA43vRjQ"
      },
      "source": [
        "gunakan e %time? at the IPython prompt untuk bantuan"
      ]
    },
    {
      "cell_type": "markdown",
      "metadata": {
        "id": "Fl0XhE04vVpH"
      },
      "source": [
        "# **Profiling Full Scripts: %prun**\n",
        "IPython dapat digunakan dengan nyaman oleh profiler, dalam bentuk\n",
        "magic function %prun."
      ]
    },
    {
      "cell_type": "code",
      "metadata": {
        "colab": {
          "base_uri": "https://localhost:8080/",
          "height": 129
        },
        "id": "qA4F_8VHwabA",
        "outputId": "29685a5c-a884-4ade-cce7-9f1f73f30797"
      },
      "source": [
        "def sum_of_lists(N):\n",
        " total = 0\n",
        " for i in range(5):\n",
        " L = [j ^ (j >> i) for j in range(N)]\n",
        " total += sum(L)\n",
        " return total\n"
      ],
      "execution_count": 16,
      "outputs": [
        {
          "output_type": "error",
          "ename": "IndentationError",
          "evalue": "ignored",
          "traceback": [
            "\u001b[0;36m  File \u001b[0;32m\"<ipython-input-16-8abe850a0c85>\"\u001b[0;36m, line \u001b[0;32m4\u001b[0m\n\u001b[0;31m    L = [j ^ (j >> i) for j in range(N)]\u001b[0m\n\u001b[0m    ^\u001b[0m\n\u001b[0;31mIndentationError\u001b[0m\u001b[0;31m:\u001b[0m expected an indented block\n"
          ]
        }
      ]
    },
    {
      "cell_type": "markdown",
      "metadata": {
        "id": "62ZeCZ0OyaRz"
      },
      "source": [
        "kemudian call  %prun"
      ]
    },
    {
      "cell_type": "code",
      "metadata": {
        "colab": {
          "base_uri": "https://localhost:8080/",
          "height": 639
        },
        "id": "htLRSAa2ybtj",
        "outputId": "53286014-b8c9-4720-87a7-04229ddab985"
      },
      "source": [
        "%prun sum_of_lists(1000000)"
      ],
      "execution_count": 17,
      "outputs": [
        {
          "output_type": "error",
          "ename": "NameError",
          "evalue": "ignored",
          "traceback": [
            "Traceback \u001b[0;36m(most recent call last)\u001b[0m:\n",
            "  File \u001b[1;32m\"<ipython-input-17-0a1ca3887d0a>\"\u001b[0m, line \u001b[1;32m1\u001b[0m, in \u001b[1;35m<module>\u001b[0m\n    get_ipython().magic('prun sum_of_lists(1000000)')\n",
            "  File \u001b[1;32m\"/usr/local/lib/python3.7/dist-packages/IPython/core/interactiveshell.py\"\u001b[0m, line \u001b[1;32m2160\u001b[0m, in \u001b[1;35mmagic\u001b[0m\n    return self.run_line_magic(magic_name, magic_arg_s)\n",
            "  File \u001b[1;32m\"/usr/local/lib/python3.7/dist-packages/IPython/core/interactiveshell.py\"\u001b[0m, line \u001b[1;32m2081\u001b[0m, in \u001b[1;35mrun_line_magic\u001b[0m\n    result = fn(*args,**kwargs)\n",
            "  File \u001b[1;32m\"<decorator-gen-47>\"\u001b[0m, line \u001b[1;32m2\u001b[0m, in \u001b[1;35mprun\u001b[0m\n",
            "  File \u001b[1;32m\"/usr/local/lib/python3.7/dist-packages/IPython/core/magic.py\"\u001b[0m, line \u001b[1;32m188\u001b[0m, in \u001b[1;35m<lambda>\u001b[0m\n    call = lambda f, *a, **k: f(*a, **k)\n",
            "  File \u001b[1;32m\"/usr/local/lib/python3.7/dist-packages/IPython/core/magics/execution.py\"\u001b[0m, line \u001b[1;32m281\u001b[0m, in \u001b[1;35mprun\u001b[0m\n    return self._run_with_profiler(arg_str, opts, self.shell.user_ns)\n",
            "  File \u001b[1;32m\"/usr/local/lib/python3.7/dist-packages/IPython/core/magics/execution.py\"\u001b[0m, line \u001b[1;32m303\u001b[0m, in \u001b[1;35m_run_with_profiler\u001b[0m\n    prof = prof.runctx(code, namespace, namespace)\n",
            "  File \u001b[1;32m\"/usr/lib/python3.7/cProfile.py\"\u001b[0m, line \u001b[1;32m100\u001b[0m, in \u001b[1;35mrunctx\u001b[0m\n    exec(cmd, globals, locals)\n",
            "\u001b[0;36m  File \u001b[0;32m\"<string>\"\u001b[0;36m, line \u001b[0;32m1\u001b[0;36m, in \u001b[0;35m<module>\u001b[0;36m\u001b[0m\n",
            "\u001b[0;31mNameError\u001b[0m\u001b[0;31m:\u001b[0m name 'sum_of_lists' is not defined\n"
          ]
        },
        {
          "output_type": "stream",
          "text": [
            "> \u001b[0;32m<string>\u001b[0m(1)\u001b[0;36m<module>\u001b[0;34m()\u001b[0m\n",
            "\n",
            "ipdb> print(a)\n",
            "*** NameError: name 'a' is not defined\n",
            "ipdb> b\n",
            "ipdb> quit\n"
          ],
          "name": "stdout"
        }
      ]
    },
    {
      "cell_type": "markdown",
      "metadata": {
        "id": "MxxokvKnypO7"
      },
      "source": [
        "Apa perubahan yang mungkin dapat meningkatkan algoritmanya. Gunakan e %prun? untuk bantuan\n"
      ]
    },
    {
      "cell_type": "markdown",
      "metadata": {
        "id": "AX9Gj1xwzD2Y"
      },
      "source": [
        "# **Line-by-Line Profiling with %lprun**\n",
        "profiling of %prun is useful, namun lebih nyaman menggunakan line-a-line. Ada line_profiler package yang tersedia untuk di instal untuk ini. Gunakan Python’s packaging tool, pip, untuk menginstal line_profiler package:\n",
        "$ pip install line_profiler\n",
        "Kemudian, gunakan IPython to untuk meload line_profiler IPython extension"
      ]
    },
    {
      "cell_type": "code",
      "metadata": {
        "colab": {
          "base_uri": "https://localhost:8080/",
          "height": 843
        },
        "id": "_AyjLegq0mfL",
        "outputId": "5a120091-528e-479a-835d-aea464981ee4"
      },
      "source": [
        "%load_ext line_profiler"
      ],
      "execution_count": 18,
      "outputs": [
        {
          "output_type": "error",
          "ename": "ModuleNotFoundError",
          "evalue": "ignored",
          "traceback": [
            "Traceback \u001b[0;36m(most recent call last)\u001b[0m:\n",
            "  File \u001b[1;32m\"<ipython-input-18-e874c3a3f342>\"\u001b[0m, line \u001b[1;32m1\u001b[0m, in \u001b[1;35m<module>\u001b[0m\n    get_ipython().magic('load_ext line_profiler')\n",
            "  File \u001b[1;32m\"/usr/local/lib/python3.7/dist-packages/IPython/core/interactiveshell.py\"\u001b[0m, line \u001b[1;32m2160\u001b[0m, in \u001b[1;35mmagic\u001b[0m\n    return self.run_line_magic(magic_name, magic_arg_s)\n",
            "  File \u001b[1;32m\"/usr/local/lib/python3.7/dist-packages/IPython/core/interactiveshell.py\"\u001b[0m, line \u001b[1;32m2081\u001b[0m, in \u001b[1;35mrun_line_magic\u001b[0m\n    result = fn(*args,**kwargs)\n",
            "  File \u001b[1;32m\"<decorator-gen-56>\"\u001b[0m, line \u001b[1;32m2\u001b[0m, in \u001b[1;35mload_ext\u001b[0m\n",
            "  File \u001b[1;32m\"/usr/local/lib/python3.7/dist-packages/IPython/core/magic.py\"\u001b[0m, line \u001b[1;32m188\u001b[0m, in \u001b[1;35m<lambda>\u001b[0m\n    call = lambda f, *a, **k: f(*a, **k)\n",
            "  File \u001b[1;32m\"/usr/local/lib/python3.7/dist-packages/IPython/core/magics/extension.py\"\u001b[0m, line \u001b[1;32m37\u001b[0m, in \u001b[1;35mload_ext\u001b[0m\n    res = self.shell.extension_manager.load_extension(module_str)\n",
            "\u001b[0;36m  File \u001b[0;32m\"/usr/local/lib/python3.7/dist-packages/IPython/core/extensions.py\"\u001b[0;36m, line \u001b[0;32m83\u001b[0;36m, in \u001b[0;35mload_extension\u001b[0;36m\u001b[0m\n\u001b[0;31m    __import__(module_str)\u001b[0m\n",
            "\u001b[0;31mModuleNotFoundError\u001b[0m\u001b[0;31m:\u001b[0m No module named 'line_profiler'\n",
            "",
            "\u001b[0;31m---------------------------------------------------------------------------\u001b[0;32m\nNOTE: If your import is failing due to a missing package, you can\nmanually install dependencies using either !pip or !apt.\n\nTo view examples of installing some common dependencies, click the\n\"Open Examples\" button below.\n\u001b[0;31m---------------------------------------------------------------------------\u001b[0m\n"
          ]
        },
        {
          "output_type": "stream",
          "text": [
            "> \u001b[0;32m/usr/local/lib/python3.7/dist-packages/IPython/core/extensions.py\u001b[0m(88)\u001b[0;36mload_extension\u001b[0;34m()\u001b[0m\n",
            "\u001b[0;32m     86 \u001b[0;31m                \u001b[0mself\u001b[0m\u001b[0;34m.\u001b[0m\u001b[0mloaded\u001b[0m\u001b[0;34m.\u001b[0m\u001b[0madd\u001b[0m\u001b[0;34m(\u001b[0m\u001b[0mmodule_str\u001b[0m\u001b[0;34m)\u001b[0m\u001b[0;34m\u001b[0m\u001b[0;34m\u001b[0m\u001b[0m\n",
            "\u001b[0m\u001b[0;32m     87 \u001b[0;31m            \u001b[0;32melse\u001b[0m\u001b[0;34m:\u001b[0m\u001b[0;34m\u001b[0m\u001b[0;34m\u001b[0m\u001b[0m\n",
            "\u001b[0m\u001b[0;32m---> 88 \u001b[0;31m                \u001b[0;32mreturn\u001b[0m \u001b[0;34m\"no load function\"\u001b[0m\u001b[0;34m\u001b[0m\u001b[0;34m\u001b[0m\u001b[0m\n",
            "\u001b[0m\u001b[0;32m     89 \u001b[0;31m\u001b[0;34m\u001b[0m\u001b[0m\n",
            "\u001b[0m\u001b[0;32m     90 \u001b[0;31m    \u001b[0;32mdef\u001b[0m \u001b[0munload_extension\u001b[0m\u001b[0;34m(\u001b[0m\u001b[0mself\u001b[0m\u001b[0;34m,\u001b[0m \u001b[0mmodule_str\u001b[0m\u001b[0;34m)\u001b[0m\u001b[0;34m:\u001b[0m\u001b[0;34m\u001b[0m\u001b[0;34m\u001b[0m\u001b[0m\n",
            "\u001b[0m\n",
            "ipdb> print(a)\n",
            "*** NameError: name 'a' is not defined\n",
            "ipdb> a\n",
            "self = <IPython.core.extensions.ExtensionManager object at 0x7fb6e1d47710>\n",
            "module_str = 'line_profiler'\n",
            "ipdb> b\n",
            "ipdb> quit\n"
          ],
          "name": "stdout"
        }
      ]
    },
    {
      "cell_type": "markdown",
      "metadata": {
        "id": "DruJL5pG0nUy"
      },
      "source": [
        "Perintah/command %lprun akan menggunakan line-by-line profiling untuk functiondi kasus ini, jadi :"
      ]
    },
    {
      "cell_type": "code",
      "metadata": {
        "colab": {
          "base_uri": "https://localhost:8080/"
        },
        "id": "n_rRD5Qr02XP",
        "outputId": "dc34310b-be19-4e78-a234-5c750dfd7a0d"
      },
      "source": [
        "%lprun -f sum_of_lists sum_of_lists(5000)"
      ],
      "execution_count": 19,
      "outputs": [
        {
          "output_type": "stream",
          "text": [
            "UsageError: Line magic function `%lprun` not found.\n"
          ],
          "name": "stderr"
        }
      ]
    },
    {
      "cell_type": "markdown",
      "metadata": {
        "id": "NgZkFU_F07o6"
      },
      "source": [
        "Informasi diatas merupakan kunci untuk membaca: the time is reported\n",
        "in microseconds. Kita juga dapat gunakan informasi ini untuk memodifikasi"
      ]
    },
    {
      "cell_type": "markdown",
      "metadata": {
        "id": "8INFv64p1MJc"
      },
      "source": [
        "# **Profiling Memory Use: %memit and %mprun**\n",
        "Aspek lain profiling adalah jumlah memori yang digunakan untuk operasi. ini dapat dievaluasi dengan IPython extension lain, yaitu memory_profiler. Sejalan dengan\n",
        "line_profiler, dengan memulai  pip-installing the extension:\n",
        "$ pip install memory_profiler . \n"
      ]
    },
    {
      "cell_type": "code",
      "metadata": {
        "colab": {
          "base_uri": "https://localhost:8080/",
          "height": 743
        },
        "id": "MgeGmKZ21uPs",
        "outputId": "d46cbd7c-a5a4-493c-b318-095301197853"
      },
      "source": [
        "%load_ext memory_profiler"
      ],
      "execution_count": null,
      "outputs": [
        {
          "output_type": "error",
          "ename": "ModuleNotFoundError",
          "evalue": "ignored",
          "traceback": [
            "Traceback \u001b[0;36m(most recent call last)\u001b[0m:\n",
            "  File \u001b[1;32m\"<ipython-input-20-222a70fe6b75>\"\u001b[0m, line \u001b[1;32m1\u001b[0m, in \u001b[1;35m<module>\u001b[0m\n    get_ipython().magic('load_ext memory_profiler')\n",
            "  File \u001b[1;32m\"/usr/local/lib/python3.7/dist-packages/IPython/core/interactiveshell.py\"\u001b[0m, line \u001b[1;32m2160\u001b[0m, in \u001b[1;35mmagic\u001b[0m\n    return self.run_line_magic(magic_name, magic_arg_s)\n",
            "  File \u001b[1;32m\"/usr/local/lib/python3.7/dist-packages/IPython/core/interactiveshell.py\"\u001b[0m, line \u001b[1;32m2081\u001b[0m, in \u001b[1;35mrun_line_magic\u001b[0m\n    result = fn(*args,**kwargs)\n",
            "  File \u001b[1;32m\"<decorator-gen-56>\"\u001b[0m, line \u001b[1;32m2\u001b[0m, in \u001b[1;35mload_ext\u001b[0m\n",
            "  File \u001b[1;32m\"/usr/local/lib/python3.7/dist-packages/IPython/core/magic.py\"\u001b[0m, line \u001b[1;32m188\u001b[0m, in \u001b[1;35m<lambda>\u001b[0m\n    call = lambda f, *a, **k: f(*a, **k)\n",
            "  File \u001b[1;32m\"/usr/local/lib/python3.7/dist-packages/IPython/core/magics/extension.py\"\u001b[0m, line \u001b[1;32m37\u001b[0m, in \u001b[1;35mload_ext\u001b[0m\n    res = self.shell.extension_manager.load_extension(module_str)\n",
            "\u001b[0;36m  File \u001b[0;32m\"/usr/local/lib/python3.7/dist-packages/IPython/core/extensions.py\"\u001b[0;36m, line \u001b[0;32m83\u001b[0;36m, in \u001b[0;35mload_extension\u001b[0;36m\u001b[0m\n\u001b[0;31m    __import__(module_str)\u001b[0m\n",
            "\u001b[0;31mModuleNotFoundError\u001b[0m\u001b[0;31m:\u001b[0m No module named 'memory_profiler'\n",
            "",
            "\u001b[0;31m---------------------------------------------------------------------------\u001b[0;32m\nNOTE: If your import is failing due to a missing package, you can\nmanually install dependencies using either !pip or !apt.\n\nTo view examples of installing some common dependencies, click the\n\"Open Examples\" button below.\n\u001b[0;31m---------------------------------------------------------------------------\u001b[0m\n"
          ]
        },
        {
          "output_type": "stream",
          "text": [
            "> \u001b[0;32m/usr/local/lib/python3.7/dist-packages/IPython/core/extensions.py\u001b[0m(88)\u001b[0;36mload_extension\u001b[0;34m()\u001b[0m\n",
            "\u001b[0;32m     86 \u001b[0;31m                \u001b[0mself\u001b[0m\u001b[0;34m.\u001b[0m\u001b[0mloaded\u001b[0m\u001b[0;34m.\u001b[0m\u001b[0madd\u001b[0m\u001b[0;34m(\u001b[0m\u001b[0mmodule_str\u001b[0m\u001b[0;34m)\u001b[0m\u001b[0;34m\u001b[0m\u001b[0;34m\u001b[0m\u001b[0m\n",
            "\u001b[0m\u001b[0;32m     87 \u001b[0;31m            \u001b[0;32melse\u001b[0m\u001b[0;34m:\u001b[0m\u001b[0;34m\u001b[0m\u001b[0;34m\u001b[0m\u001b[0m\n",
            "\u001b[0m\u001b[0;32m---> 88 \u001b[0;31m                \u001b[0;32mreturn\u001b[0m \u001b[0;34m\"no load function\"\u001b[0m\u001b[0;34m\u001b[0m\u001b[0;34m\u001b[0m\u001b[0m\n",
            "\u001b[0m\u001b[0;32m     89 \u001b[0;31m\u001b[0;34m\u001b[0m\u001b[0m\n",
            "\u001b[0m\u001b[0;32m     90 \u001b[0;31m    \u001b[0;32mdef\u001b[0m \u001b[0munload_extension\u001b[0m\u001b[0;34m(\u001b[0m\u001b[0mself\u001b[0m\u001b[0;34m,\u001b[0m \u001b[0mmodule_str\u001b[0m\u001b[0;34m)\u001b[0m\u001b[0;34m:\u001b[0m\u001b[0;34m\u001b[0m\u001b[0;34m\u001b[0m\u001b[0m\n",
            "\u001b[0m\n"
          ],
          "name": "stdout"
        }
      ]
    },
    {
      "cell_type": "markdown",
      "metadata": {
        "id": "DA84CSrK1xxi"
      },
      "source": [
        "Memori profiler extension mengandung dua magic functions:  %memit\n",
        "magic (untuk mengukur memrori dan sama dengan %timeit) dan %mprun\n",
        "function (untuk mengukur memori sama dengan %lprun).  %memit func‐\n",
        "tion dapat digunakan sebagai berikut:"
      ]
    },
    {
      "cell_type": "code",
      "metadata": {
        "id": "mTKTIwZ72LvR"
      },
      "source": [
        "%memit sum_of_lists(1000000)"
      ],
      "execution_count": null,
      "outputs": []
    },
    {
      "cell_type": "code",
      "metadata": {
        "id": "hbM1tYzN2Ts9"
      },
      "source": [
        "%%file mprun_demo.py\n",
        " def sum_of_lists(N):\n",
        " total = 0\n",
        " for i in range(5):\n",
        " L = [j ^ (j >> i) for j in range(N)]\n",
        " total += sum(L)\n",
        " del L # remove reference to L\n",
        " return total"
      ],
      "execution_count": null,
      "outputs": []
    },
    {
      "cell_type": "markdown",
      "metadata": {
        "id": "hpkY_80U2bzg"
      },
      "source": [
        "Sekarang kita dapat mengimpor versi terbaru dari fungsi ini"
      ]
    },
    {
      "cell_type": "code",
      "metadata": {
        "id": "_i_mpTeJ2lzc"
      },
      "source": [
        "from mprun_demo import sum_of_lists\n",
        " %mprun -f sum_of_lists sum_of_lists(1000000)"
      ],
      "execution_count": null,
      "outputs": []
    },
    {
      "cell_type": "markdown",
      "metadata": {
        "id": "H1UgC4B92qYA"
      },
      "source": [
        "Column diatas memberikan informasi seberapa banyak setiap line mempengaruhitotal memori"
      ]
    }
  ]
}