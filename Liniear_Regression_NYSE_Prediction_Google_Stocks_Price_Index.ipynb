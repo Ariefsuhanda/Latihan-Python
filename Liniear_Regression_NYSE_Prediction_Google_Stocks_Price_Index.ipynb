{
  "nbformat": 4,
  "nbformat_minor": 0,
  "metadata": {
    "colab": {
      "name": "Liniear Regression_NYSE_Prediction Google Stocks Price Index",
      "provenance": [],
      "authorship_tag": "ABX9TyOCwtiDp9F/0j/blJRQCiqt",
      "include_colab_link": true
    },
    "kernelspec": {
      "name": "python3",
      "display_name": "Python 3"
    },
    "language_info": {
      "name": "python"
    }
  },
  "cells": [
    {
      "cell_type": "markdown",
      "metadata": {
        "id": "view-in-github",
        "colab_type": "text"
      },
      "source": [
        "<a href=\"https://colab.research.google.com/github/Ariefsuhanda/Latihan-Python/blob/main/Liniear_Regression_NYSE_Prediction_Google_Stocks_Price_Index.ipynb\" target=\"_parent\"><img src=\"https://colab.research.google.com/assets/colab-badge.svg\" alt=\"Open In Colab\"/></a>"
      ]
    },
    {
      "cell_type": "code",
      "metadata": {
        "colab": {
          "resources": {
            "http://localhost:8080/nbextensions/google.colab/files.js": {
              "data": "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",
              "ok": true,
              "headers": [
                [
                  "content-type",
                  "application/javascript"
                ]
              ],
              "status": 200,
              "status_text": ""
            }
          },
          "base_uri": "https://localhost:8080/",
          "height": 72
        },
        "id": "kxi0ZllCb2Wp",
        "outputId": "3c60c3fc-ea39-43b2-a630-c01a281d5bbe"
      },
      "source": [
        "#import library dan dataset\n",
        "import numpy as np # linear algebra\n",
        "import pandas as pd # data processing, CSV file I/O (e.g. pd.read_csv)\n",
        "from google.colab import files\n",
        "filenya = files.upload()"
      ],
      "execution_count": 1,
      "outputs": [
        {
          "output_type": "display_data",
          "data": {
            "text/html": [
              "\n",
              "     <input type=\"file\" id=\"files-3c7b4612-fa0c-4c9a-bdff-b6b4fd5292bc\" name=\"files[]\" multiple disabled\n",
              "        style=\"border:none\" />\n",
              "     <output id=\"result-3c7b4612-fa0c-4c9a-bdff-b6b4fd5292bc\">\n",
              "      Upload widget is only available when the cell has been executed in the\n",
              "      current browser session. Please rerun this cell to enable.\n",
              "      </output>\n",
              "      <script src=\"/nbextensions/google.colab/files.js\"></script> "
            ],
            "text/plain": [
              "<IPython.core.display.HTML object>"
            ]
          },
          "metadata": {
            "tags": []
          }
        },
        {
          "output_type": "stream",
          "text": [
            "Saving prices.csv to prices.csv\n"
          ],
          "name": "stdout"
        }
      ]
    },
    {
      "cell_type": "code",
      "metadata": {
        "id": "6zlXx7-Adj-y"
      },
      "source": [
        "# Import library yang dibutukan\n",
        "from subprocess import check_output\n",
        "from keras.layers.core import Dense, Activation, Dropout\n",
        "from keras.layers.recurrent import LSTM\n",
        "from keras.models import Sequential\n",
        "import time #helper libraries\n",
        "from sklearn.preprocessing import MinMaxScaler\n",
        "import matplotlib.pyplot as plt"
      ],
      "execution_count": 2,
      "outputs": []
    },
    {
      "cell_type": "code",
      "metadata": {
        "colab": {
          "base_uri": "https://localhost:8080/",
          "height": 419
        },
        "id": "t86lNb2JekuX",
        "outputId": "c6b40eac-5956-4fa8-bd17-f0bfbd87ecae"
      },
      "source": [
        "# Import io dan buka data\n",
        "prices =  pd.read_csv('prices.csv', header=0)\n",
        "prices"
      ],
      "execution_count": 7,
      "outputs": [
        {
          "output_type": "execute_result",
          "data": {
            "text/html": [
              "<div>\n",
              "<style scoped>\n",
              "    .dataframe tbody tr th:only-of-type {\n",
              "        vertical-align: middle;\n",
              "    }\n",
              "\n",
              "    .dataframe tbody tr th {\n",
              "        vertical-align: top;\n",
              "    }\n",
              "\n",
              "    .dataframe thead th {\n",
              "        text-align: right;\n",
              "    }\n",
              "</style>\n",
              "<table border=\"1\" class=\"dataframe\">\n",
              "  <thead>\n",
              "    <tr style=\"text-align: right;\">\n",
              "      <th></th>\n",
              "      <th>date</th>\n",
              "      <th>symbol</th>\n",
              "      <th>open</th>\n",
              "      <th>close</th>\n",
              "      <th>low</th>\n",
              "      <th>high</th>\n",
              "      <th>volume</th>\n",
              "    </tr>\n",
              "  </thead>\n",
              "  <tbody>\n",
              "    <tr>\n",
              "      <th>0</th>\n",
              "      <td>2016-01-05 00:00:00</td>\n",
              "      <td>WLTW</td>\n",
              "      <td>123.430000</td>\n",
              "      <td>125.839996</td>\n",
              "      <td>122.309998</td>\n",
              "      <td>126.250000</td>\n",
              "      <td>2163600.0</td>\n",
              "    </tr>\n",
              "    <tr>\n",
              "      <th>1</th>\n",
              "      <td>2016-01-06 00:00:00</td>\n",
              "      <td>WLTW</td>\n",
              "      <td>125.239998</td>\n",
              "      <td>119.980003</td>\n",
              "      <td>119.940002</td>\n",
              "      <td>125.540001</td>\n",
              "      <td>2386400.0</td>\n",
              "    </tr>\n",
              "    <tr>\n",
              "      <th>2</th>\n",
              "      <td>2016-01-07 00:00:00</td>\n",
              "      <td>WLTW</td>\n",
              "      <td>116.379997</td>\n",
              "      <td>114.949997</td>\n",
              "      <td>114.930000</td>\n",
              "      <td>119.739998</td>\n",
              "      <td>2489500.0</td>\n",
              "    </tr>\n",
              "    <tr>\n",
              "      <th>3</th>\n",
              "      <td>2016-01-08 00:00:00</td>\n",
              "      <td>WLTW</td>\n",
              "      <td>115.480003</td>\n",
              "      <td>116.620003</td>\n",
              "      <td>113.500000</td>\n",
              "      <td>117.440002</td>\n",
              "      <td>2006300.0</td>\n",
              "    </tr>\n",
              "    <tr>\n",
              "      <th>4</th>\n",
              "      <td>2016-01-11 00:00:00</td>\n",
              "      <td>WLTW</td>\n",
              "      <td>117.010002</td>\n",
              "      <td>114.970001</td>\n",
              "      <td>114.089996</td>\n",
              "      <td>117.330002</td>\n",
              "      <td>1408600.0</td>\n",
              "    </tr>\n",
              "    <tr>\n",
              "      <th>...</th>\n",
              "      <td>...</td>\n",
              "      <td>...</td>\n",
              "      <td>...</td>\n",
              "      <td>...</td>\n",
              "      <td>...</td>\n",
              "      <td>...</td>\n",
              "      <td>...</td>\n",
              "    </tr>\n",
              "    <tr>\n",
              "      <th>851259</th>\n",
              "      <td>2016-12-30</td>\n",
              "      <td>ZBH</td>\n",
              "      <td>103.309998</td>\n",
              "      <td>103.199997</td>\n",
              "      <td>102.849998</td>\n",
              "      <td>103.930000</td>\n",
              "      <td>973800.0</td>\n",
              "    </tr>\n",
              "    <tr>\n",
              "      <th>851260</th>\n",
              "      <td>2016-12-30</td>\n",
              "      <td>ZION</td>\n",
              "      <td>43.070000</td>\n",
              "      <td>43.040001</td>\n",
              "      <td>42.689999</td>\n",
              "      <td>43.310001</td>\n",
              "      <td>1938100.0</td>\n",
              "    </tr>\n",
              "    <tr>\n",
              "      <th>851261</th>\n",
              "      <td>2016-12-30</td>\n",
              "      <td>ZTS</td>\n",
              "      <td>53.639999</td>\n",
              "      <td>53.529999</td>\n",
              "      <td>53.270000</td>\n",
              "      <td>53.740002</td>\n",
              "      <td>1701200.0</td>\n",
              "    </tr>\n",
              "    <tr>\n",
              "      <th>851262</th>\n",
              "      <td>2016-12-30 00:00:00</td>\n",
              "      <td>AIV</td>\n",
              "      <td>44.730000</td>\n",
              "      <td>45.450001</td>\n",
              "      <td>44.410000</td>\n",
              "      <td>45.590000</td>\n",
              "      <td>1380900.0</td>\n",
              "    </tr>\n",
              "    <tr>\n",
              "      <th>851263</th>\n",
              "      <td>2016-12-30 00:00:00</td>\n",
              "      <td>FTV</td>\n",
              "      <td>54.200001</td>\n",
              "      <td>53.630001</td>\n",
              "      <td>53.389999</td>\n",
              "      <td>54.480000</td>\n",
              "      <td>705100.0</td>\n",
              "    </tr>\n",
              "  </tbody>\n",
              "</table>\n",
              "<p>851264 rows × 7 columns</p>\n",
              "</div>"
            ],
            "text/plain": [
              "                       date symbol  ...        high     volume\n",
              "0       2016-01-05 00:00:00   WLTW  ...  126.250000  2163600.0\n",
              "1       2016-01-06 00:00:00   WLTW  ...  125.540001  2386400.0\n",
              "2       2016-01-07 00:00:00   WLTW  ...  119.739998  2489500.0\n",
              "3       2016-01-08 00:00:00   WLTW  ...  117.440002  2006300.0\n",
              "4       2016-01-11 00:00:00   WLTW  ...  117.330002  1408600.0\n",
              "...                     ...    ...  ...         ...        ...\n",
              "851259           2016-12-30    ZBH  ...  103.930000   973800.0\n",
              "851260           2016-12-30   ZION  ...   43.310001  1938100.0\n",
              "851261           2016-12-30    ZTS  ...   53.740002  1701200.0\n",
              "851262  2016-12-30 00:00:00    AIV  ...   45.590000  1380900.0\n",
              "851263  2016-12-30 00:00:00    FTV  ...   54.480000   705100.0\n",
              "\n",
              "[851264 rows x 7 columns]"
            ]
          },
          "metadata": {
            "tags": []
          },
          "execution_count": 7
        }
      ]
    },
    {
      "cell_type": "code",
      "metadata": {
        "colab": {
          "base_uri": "https://localhost:8080/"
        },
        "id": "G9jmWneHeooA",
        "outputId": "00ed30d5-f693-40ad-eaee-af6390035027"
      },
      "source": [
        "# Kita akan analisis data saham google pilih indeksnya\n",
        "google_stocks = prices[prices.symbol == 'GOOG']\n",
        "google_stocks.dtypes"
      ],
      "execution_count": 8,
      "outputs": [
        {
          "output_type": "execute_result",
          "data": {
            "text/plain": [
              "date       object\n",
              "symbol     object\n",
              "open      float64\n",
              "close     float64\n",
              "low       float64\n",
              "high      float64\n",
              "volume    float64\n",
              "dtype: object"
            ]
          },
          "metadata": {
            "tags": []
          },
          "execution_count": 8
        }
      ]
    },
    {
      "cell_type": "code",
      "metadata": {
        "colab": {
          "base_uri": "https://localhost:8080/"
        },
        "id": "KyWRkmMvew2i",
        "outputId": "38260ec4-cbe9-4450-deeb-ed92dfd922a7"
      },
      "source": [
        "# di reshape\n",
        "google_stocks_prices = google_stocks.close.values.astype('float64').reshape(1762, 1)\n",
        "google_stocks_prices"
      ],
      "execution_count": 9,
      "outputs": [
        {
          "output_type": "execute_result",
          "data": {
            "text/plain": [
              "array([[626.751061],\n",
              "       [623.991055],\n",
              "       [608.261023],\n",
              "       ...,\n",
              "       [785.049988],\n",
              "       [782.789978],\n",
              "       [771.820007]])"
            ]
          },
          "metadata": {
            "tags": []
          },
          "execution_count": 9
        }
      ]
    },
    {
      "cell_type": "code",
      "metadata": {
        "colab": {
          "base_uri": "https://localhost:8080/",
          "height": 265
        },
        "id": "KTKN9lZWe07e",
        "outputId": "7ea52840-9eeb-4557-b3a5-40ccce8eb667"
      },
      "source": [
        "# plotkan datanya\n",
        "plt.plot(google_stocks_prices)\n",
        "plt.show()"
      ],
      "execution_count": 10,
      "outputs": [
        {
          "output_type": "display_data",
          "data": {
            "image/png": "[encoded data removed]",
            "text/plain": [
              "<Figure size 432x288 with 1 Axes>"
            ]
          },
          "metadata": {
            "tags": [],
            "needs_background": "light"
          }
        }
      ]
    },
    {
      "cell_type": "code",
      "metadata": {
        "id": "uOwRi-Y8e8ym"
      },
      "source": [
        "# rescale data\n",
        "scaler = MinMaxScaler(feature_range=(0, 1))\n",
        "google_stocks_prices = scaler.fit_transform(google_stocks_prices)"
      ],
      "execution_count": 12,
      "outputs": []
    },
    {
      "cell_type": "code",
      "metadata": {
        "colab": {
          "base_uri": "https://localhost:8080/",
          "height": 265
        },
        "id": "5T1tgWk2fATQ",
        "outputId": "378ef115-30ec-48da-8fdf-57da516b65da"
      },
      "source": [
        "plt.plot(google_stocks_prices)\n",
        "plt.show()"
      ],
      "execution_count": 13,
      "outputs": [
        {
          "output_type": "display_data",
          "data": {
            "image/png": "[encoded data removed]",
            "text/plain": [
              "<Figure size 432x288 with 1 Axes>"
            ]
          },
          "metadata": {
            "tags": [],
            "needs_background": "light"
          }
        }
      ]
    },
    {
      "cell_type": "code",
      "metadata": {
        "colab": {
          "base_uri": "https://localhost:8080/"
        },
        "id": "HwTcVjHtfCJN",
        "outputId": "5167d3c8-9866-4c33-89af-ce13203c4e2b"
      },
      "source": [
        "# pisahkan data training dan test\n",
        "train_size = int(len(google_stocks_prices) * 0.75)\n",
        "test_size = len(google_stocks_prices) - train_size\n",
        "train, test = google_stocks_prices[0:train_size,:], google_stocks_prices[train_size:len(google_stocks_prices),:]\n",
        "print('train: ',len(train))\n",
        "print('test: ',  len(test))"
      ],
      "execution_count": 14,
      "outputs": [
        {
          "output_type": "stream",
          "text": [
            "train:  1321\n",
            "test:  441\n"
          ],
          "name": "stdout"
        }
      ]
    },
    {
      "cell_type": "code",
      "metadata": {
        "id": "qimWrNP7fJGb"
      },
      "source": [
        "# convert an array of values into a dataset matrix\n",
        "def create_dataset(dataset, look_back=1):\n",
        "    dataX, dataY = [], []\n",
        "    for i in range(len(dataset)-look_back-1):\n",
        "        a = dataset[i:(i+look_back), 0]\n",
        "        dataX.append(a)\n",
        "        dataY.append(dataset[i + look_back, 0])\n",
        "    return np.array(dataX), np.array(dataY)"
      ],
      "execution_count": 15,
      "outputs": []
    },
    {
      "cell_type": "code",
      "metadata": {
        "id": "OL5UQHyFfJqQ"
      },
      "source": [
        "# convert train and test data to datasets\n",
        "look_back = 1\n",
        "train_X, train_y = create_dataset(train, look_back)\n",
        "test_X, test_Y = create_dataset(test, look_back)"
      ],
      "execution_count": 16,
      "outputs": []
    },
    {
      "cell_type": "code",
      "metadata": {
        "id": "ojM6PKqQfLzZ"
      },
      "source": [
        "# reshape into X = t and Y = t+1\n",
        "train_X = np.reshape(train_X, (train_X.shape[0], 1, train_X.shape[1]))\n",
        "test_X = np.reshape(test_X, (test_X.shape[0], 1, test_X.shape[1]))"
      ],
      "execution_count": 17,
      "outputs": []
    },
    {
      "cell_type": "code",
      "metadata": {
        "id": "MOZ9_0fufN7e"
      },
      "source": [
        "#LSTM architecture\n",
        "model = Sequential()\n",
        "\n",
        "# First LSTM layer with Dropout regularisation\n",
        "model.add(LSTM(units=50, \n",
        "               return_sequences=True, \n",
        "               input_shape=(train_X.shape[1],1)))\n",
        "model.add(Dropout(0.2))\n",
        "\n",
        "# Second LSTM layer\n",
        "model.add(LSTM(units=50,return_sequences=True))\n",
        "model.add(Dropout(0.2))\n",
        "\n",
        "# Third LSTM layer\n",
        "model.add(LSTM(units=50, return_sequences=True))\n",
        "model.add(Dropout(0.2))\n",
        "\n",
        "# Fourth LSTM layer\n",
        "model.add(LSTM(units=50))\n",
        "model.add(Dropout(0.5))\n",
        "\n",
        "# The output layer\n",
        "model.add(Dense(units=50, kernel_initializer='uniform', activation='tanh'))\n",
        "model.add(Dense(units=1, kernel_initializer='uniform', activation='linear'))"
      ],
      "execution_count": 18,
      "outputs": []
    },
    {
      "cell_type": "code",
      "metadata": {
        "colab": {
          "base_uri": "https://localhost:8080/"
        },
        "id": "9R-K8SrxfW-9",
        "outputId": "629d5393-b1fb-480e-ef22-730e54aa4b03"
      },
      "source": [
        "# Compiling the RNN\n",
        "model.compile(optimizer='adam',loss='mean_squared_error')\n",
        "# Fitting to the training set\n",
        "start = time.time()\n",
        "history = model.fit(train_X,\n",
        "                  train_y,\n",
        "                  epochs=200,\n",
        "                  batch_size=35, \n",
        "                  validation_split=0.05, \n",
        "                  verbose=1)\n",
        "print ('compilation time : ', time.time() - start)"
      ],
      "execution_count": 19,
      "outputs": [
        {
          "output_type": "stream",
          "text": [
            "Epoch 1/200\n",
            "36/36 [==============================] - 8s 51ms/step - loss: 0.1268 - val_loss: 0.0156\n",
            "Epoch 2/200\n",
            "36/36 [==============================] - 0s 7ms/step - loss: 0.0485 - val_loss: 0.0283\n",
            "Epoch 3/200\n",
            "36/36 [==============================] - 0s 7ms/step - loss: 0.0286 - val_loss: 7.6683e-04\n",
            "Epoch 4/200\n",
            "36/36 [==============================] - 0s 7ms/step - loss: 0.0091 - val_loss: 0.0016\n",
            "Epoch 5/200\n",
            "36/36 [==============================] - 0s 7ms/step - loss: 0.0060 - val_loss: 7.3999e-04\n",
            "Epoch 6/200\n",
            "36/36 [==============================] - 0s 7ms/step - loss: 0.0040 - val_loss: 3.3035e-04\n",
            "Epoch 7/200\n",
            "36/36 [==============================] - 0s 7ms/step - loss: 0.0040 - val_loss: 3.0181e-04\n",
            "Epoch 8/200\n",
            "36/36 [==============================] - 0s 7ms/step - loss: 0.0047 - val_loss: 1.4338e-04\n",
            "Epoch 9/200\n",
            "36/36 [==============================] - 0s 8ms/step - loss: 0.0032 - val_loss: 2.0684e-04\n",
            "Epoch 10/200\n",
            "36/36 [==============================] - 0s 7ms/step - loss: 0.0026 - val_loss: 1.2683e-04\n",
            "Epoch 11/200\n",
            "36/36 [==============================] - 0s 7ms/step - loss: 0.0033 - val_loss: 1.1972e-04\n",
            "Epoch 12/200\n",
            "36/36 [==============================] - 0s 7ms/step - loss: 0.0030 - val_loss: 9.7835e-05\n",
            "Epoch 13/200\n",
            "36/36 [==============================] - 0s 7ms/step - loss: 0.0029 - val_loss: 1.2626e-04\n",
            "Epoch 14/200\n",
            "36/36 [==============================] - 0s 8ms/step - loss: 0.0017 - val_loss: 1.2011e-04\n",
            "Epoch 15/200\n",
            "36/36 [==============================] - 0s 7ms/step - loss: 0.0024 - val_loss: 8.7203e-05\n",
            "Epoch 16/200\n",
            "36/36 [==============================] - 0s 7ms/step - loss: 0.0024 - val_loss: 9.5855e-05\n",
            "Epoch 17/200\n",
            "36/36 [==============================] - 0s 7ms/step - loss: 0.0034 - val_loss: 2.9873e-04\n",
            "Epoch 18/200\n",
            "36/36 [==============================] - 0s 7ms/step - loss: 0.0022 - val_loss: 2.2691e-04\n",
            "Epoch 19/200\n",
            "36/36 [==============================] - 0s 7ms/step - loss: 0.0023 - val_loss: 1.0851e-04\n",
            "Epoch 20/200\n",
            "36/36 [==============================] - 0s 7ms/step - loss: 0.0032 - val_loss: 4.5274e-04\n",
            "Epoch 21/200\n",
            "36/36 [==============================] - 0s 7ms/step - loss: 0.0022 - val_loss: 1.7206e-04\n",
            "Epoch 22/200\n",
            "36/36 [==============================] - 0s 7ms/step - loss: 0.0021 - val_loss: 1.5730e-04\n",
            "Epoch 23/200\n",
            "36/36 [==============================] - 0s 8ms/step - loss: 0.0035 - val_loss: 1.3071e-04\n",
            "Epoch 24/200\n",
            "36/36 [==============================] - 0s 7ms/step - loss: 0.0023 - val_loss: 1.6240e-04\n",
            "Epoch 25/200\n",
            "36/36 [==============================] - 0s 7ms/step - loss: 0.0021 - val_loss: 3.2981e-04\n",
            "Epoch 26/200\n",
            "36/36 [==============================] - 0s 7ms/step - loss: 0.0021 - val_loss: 4.5681e-04\n",
            "Epoch 27/200\n",
            "36/36 [==============================] - 0s 8ms/step - loss: 0.0022 - val_loss: 8.5083e-05\n",
            "Epoch 28/200\n",
            "36/36 [==============================] - 0s 8ms/step - loss: 0.0020 - val_loss: 1.4752e-04\n",
            "Epoch 29/200\n",
            "36/36 [==============================] - 0s 7ms/step - loss: 0.0025 - val_loss: 1.4743e-04\n",
            "Epoch 30/200\n",
            "36/36 [==============================] - 0s 7ms/step - loss: 0.0024 - val_loss: 2.2452e-04\n",
            "Epoch 31/200\n",
            "36/36 [==============================] - 0s 7ms/step - loss: 0.0022 - val_loss: 1.6127e-04\n",
            "Epoch 32/200\n",
            "36/36 [==============================] - 0s 9ms/step - loss: 0.0018 - val_loss: 9.7229e-05\n",
            "Epoch 33/200\n",
            "36/36 [==============================] - 0s 7ms/step - loss: 0.0019 - val_loss: 2.5242e-04\n",
            "Epoch 34/200\n",
            "36/36 [==============================] - 0s 8ms/step - loss: 0.0037 - val_loss: 8.8769e-05\n",
            "Epoch 35/200\n",
            "36/36 [==============================] - 0s 7ms/step - loss: 0.0022 - val_loss: 9.9280e-05\n",
            "Epoch 36/200\n",
            "36/36 [==============================] - 0s 7ms/step - loss: 0.0021 - val_loss: 1.4372e-04\n",
            "Epoch 37/200\n",
            "36/36 [==============================] - 0s 7ms/step - loss: 0.0023 - val_loss: 3.4287e-04\n",
            "Epoch 38/200\n",
            "36/36 [==============================] - 0s 7ms/step - loss: 0.0029 - val_loss: 3.6547e-04\n",
            "Epoch 39/200\n",
            "36/36 [==============================] - 0s 7ms/step - loss: 0.0028 - val_loss: 8.4719e-05\n",
            "Epoch 40/200\n",
            "36/36 [==============================] - 0s 7ms/step - loss: 0.0023 - val_loss: 3.8333e-04\n",
            "Epoch 41/200\n",
            "36/36 [==============================] - 0s 7ms/step - loss: 0.0022 - val_loss: 1.7092e-04\n",
            "Epoch 42/200\n",
            "36/36 [==============================] - 0s 7ms/step - loss: 0.0024 - val_loss: 1.2462e-04\n",
            "Epoch 43/200\n",
            "36/36 [==============================] - 0s 8ms/step - loss: 0.0021 - val_loss: 1.0459e-04\n",
            "Epoch 44/200\n",
            "36/36 [==============================] - 0s 7ms/step - loss: 0.0024 - val_loss: 3.1262e-04\n",
            "Epoch 45/200\n",
            "36/36 [==============================] - 0s 7ms/step - loss: 0.0028 - val_loss: 1.2315e-04\n",
            "Epoch 46/200\n",
            "36/36 [==============================] - 0s 7ms/step - loss: 0.0031 - val_loss: 2.3246e-04\n",
            "Epoch 47/200\n",
            "36/36 [==============================] - 0s 8ms/step - loss: 0.0020 - val_loss: 2.0092e-04\n",
            "Epoch 48/200\n",
            "36/36 [==============================] - 0s 7ms/step - loss: 0.0026 - val_loss: 4.0323e-04\n",
            "Epoch 49/200\n",
            "36/36 [==============================] - 0s 7ms/step - loss: 0.0017 - val_loss: 4.0668e-04\n",
            "Epoch 50/200\n",
            "36/36 [==============================] - 0s 7ms/step - loss: 0.0023 - val_loss: 1.0866e-04\n",
            "Epoch 51/200\n",
            "36/36 [==============================] - 0s 8ms/step - loss: 0.0022 - val_loss: 1.1522e-04\n",
            "Epoch 52/200\n",
            "36/36 [==============================] - 0s 7ms/step - loss: 0.0020 - val_loss: 8.7767e-05\n",
            "Epoch 53/200\n",
            "36/36 [==============================] - 0s 8ms/step - loss: 0.0018 - val_loss: 1.5068e-04\n",
            "Epoch 54/200\n",
            "36/36 [==============================] - 0s 7ms/step - loss: 0.0018 - val_loss: 2.2067e-04\n",
            "Epoch 55/200\n",
            "36/36 [==============================] - 0s 7ms/step - loss: 0.0027 - val_loss: 1.5067e-04\n",
            "Epoch 56/200\n",
            "36/36 [==============================] - 0s 7ms/step - loss: 0.0025 - val_loss: 1.8796e-04\n",
            "Epoch 57/200\n",
            "36/36 [==============================] - 0s 7ms/step - loss: 0.0028 - val_loss: 1.0296e-04\n",
            "Epoch 58/200\n",
            "36/36 [==============================] - 0s 7ms/step - loss: 0.0020 - val_loss: 9.8463e-05\n",
            "Epoch 59/200\n",
            "36/36 [==============================] - 0s 7ms/step - loss: 0.0018 - val_loss: 3.9836e-04\n",
            "Epoch 60/200\n",
            "36/36 [==============================] - 0s 7ms/step - loss: 0.0019 - val_loss: 4.6293e-04\n",
            "Epoch 61/200\n",
            "36/36 [==============================] - 0s 7ms/step - loss: 0.0022 - val_loss: 1.3045e-04\n",
            "Epoch 62/200\n",
            "36/36 [==============================] - 0s 7ms/step - loss: 0.0035 - val_loss: 8.9497e-05\n",
            "Epoch 63/200\n",
            "36/36 [==============================] - 0s 7ms/step - loss: 0.0019 - val_loss: 1.0414e-04\n",
            "Epoch 64/200\n",
            "36/36 [==============================] - 0s 7ms/step - loss: 0.0020 - val_loss: 3.5330e-04\n",
            "Epoch 65/200\n",
            "36/36 [==============================] - 0s 7ms/step - loss: 0.0022 - val_loss: 1.5158e-04\n",
            "Epoch 66/200\n",
            "36/36 [==============================] - 0s 7ms/step - loss: 0.0025 - val_loss: 1.1386e-04\n",
            "Epoch 67/200\n",
            "36/36 [==============================] - 0s 7ms/step - loss: 0.0017 - val_loss: 1.7225e-04\n",
            "Epoch 68/200\n",
            "36/36 [==============================] - 0s 7ms/step - loss: 0.0026 - val_loss: 1.0907e-04\n",
            "Epoch 69/200\n",
            "36/36 [==============================] - 0s 7ms/step - loss: 0.0028 - val_loss: 9.5245e-05\n",
            "Epoch 70/200\n",
            "36/36 [==============================] - 0s 7ms/step - loss: 0.0020 - val_loss: 1.1049e-04\n",
            "Epoch 71/200\n",
            "36/36 [==============================] - 0s 7ms/step - loss: 0.0024 - val_loss: 1.4481e-04\n",
            "Epoch 72/200\n",
            "36/36 [==============================] - 0s 7ms/step - loss: 0.0025 - val_loss: 1.6798e-04\n",
            "Epoch 73/200\n",
            "36/36 [==============================] - 0s 7ms/step - loss: 0.0020 - val_loss: 1.3315e-04\n",
            "Epoch 74/200\n",
            "36/36 [==============================] - 0s 7ms/step - loss: 0.0031 - val_loss: 9.6776e-05\n",
            "Epoch 75/200\n",
            "36/36 [==============================] - 0s 7ms/step - loss: 0.0026 - val_loss: 1.3325e-04\n",
            "Epoch 76/200\n",
            "36/36 [==============================] - 0s 7ms/step - loss: 0.0022 - val_loss: 1.4066e-04\n",
            "Epoch 77/200\n",
            "36/36 [==============================] - 0s 7ms/step - loss: 0.0017 - val_loss: 4.3718e-04\n",
            "Epoch 78/200\n",
            "36/36 [==============================] - 0s 6ms/step - loss: 0.0025 - val_loss: 1.6675e-04\n",
            "Epoch 79/200\n",
            "36/36 [==============================] - 0s 7ms/step - loss: 0.0026 - val_loss: 4.4562e-04\n",
            "Epoch 80/200\n",
            "36/36 [==============================] - 0s 7ms/step - loss: 0.0017 - val_loss: 1.0912e-04\n",
            "Epoch 81/200\n",
            "36/36 [==============================] - 0s 8ms/step - loss: 0.0024 - val_loss: 9.5536e-05\n",
            "Epoch 82/200\n",
            "36/36 [==============================] - 0s 7ms/step - loss: 0.0021 - val_loss: 2.2450e-04\n",
            "Epoch 83/200\n",
            "36/36 [==============================] - 0s 7ms/step - loss: 0.0023 - val_loss: 1.5431e-04\n",
            "Epoch 84/200\n",
            "36/36 [==============================] - 0s 7ms/step - loss: 0.0025 - val_loss: 9.7479e-05\n",
            "Epoch 85/200\n",
            "36/36 [==============================] - 0s 7ms/step - loss: 0.0015 - val_loss: 4.7452e-04\n",
            "Epoch 86/200\n",
            "36/36 [==============================] - 0s 6ms/step - loss: 0.0019 - val_loss: 3.7457e-04\n",
            "Epoch 87/200\n",
            "36/36 [==============================] - 0s 7ms/step - loss: 0.0020 - val_loss: 4.3689e-04\n",
            "Epoch 88/200\n",
            "36/36 [==============================] - 0s 7ms/step - loss: 0.0021 - val_loss: 9.7483e-05\n",
            "Epoch 89/200\n",
            "36/36 [==============================] - 0s 6ms/step - loss: 0.0019 - val_loss: 9.8153e-05\n",
            "Epoch 90/200\n",
            "36/36 [==============================] - 0s 7ms/step - loss: 0.0019 - val_loss: 1.0087e-04\n",
            "Epoch 91/200\n",
            "36/36 [==============================] - 0s 7ms/step - loss: 0.0019 - val_loss: 1.0537e-04\n",
            "Epoch 92/200\n",
            "36/36 [==============================] - 0s 6ms/step - loss: 0.0027 - val_loss: 1.5178e-04\n",
            "Epoch 93/200\n",
            "36/36 [==============================] - 0s 7ms/step - loss: 0.0018 - val_loss: 1.1014e-04\n",
            "Epoch 94/200\n",
            "36/36 [==============================] - 0s 7ms/step - loss: 0.0021 - val_loss: 1.7837e-04\n",
            "Epoch 95/200\n",
            "36/36 [==============================] - 0s 7ms/step - loss: 0.0022 - val_loss: 1.0216e-04\n",
            "Epoch 96/200\n",
            "36/36 [==============================] - 0s 6ms/step - loss: 0.0038 - val_loss: 1.4533e-04\n",
            "Epoch 97/200\n",
            "36/36 [==============================] - 0s 7ms/step - loss: 0.0022 - val_loss: 1.1399e-04\n",
            "Epoch 98/200\n",
            "36/36 [==============================] - 0s 7ms/step - loss: 0.0019 - val_loss: 3.7453e-04\n",
            "Epoch 99/200\n",
            "36/36 [==============================] - 0s 6ms/step - loss: 0.0019 - val_loss: 9.7370e-05\n",
            "Epoch 100/200\n",
            "36/36 [==============================] - 0s 7ms/step - loss: 0.0016 - val_loss: 1.0549e-04\n",
            "Epoch 101/200\n",
            "36/36 [==============================] - 0s 8ms/step - loss: 0.0019 - val_loss: 1.6625e-04\n",
            "Epoch 102/200\n",
            "36/36 [==============================] - 0s 8ms/step - loss: 0.0017 - val_loss: 3.1528e-04\n",
            "Epoch 103/200\n",
            "36/36 [==============================] - 0s 7ms/step - loss: 0.0016 - val_loss: 3.2786e-04\n",
            "Epoch 104/200\n",
            "36/36 [==============================] - 0s 7ms/step - loss: 0.0023 - val_loss: 1.7301e-04\n",
            "Epoch 105/200\n",
            "36/36 [==============================] - 0s 7ms/step - loss: 0.0018 - val_loss: 2.1393e-04\n",
            "Epoch 106/200\n",
            "36/36 [==============================] - 0s 7ms/step - loss: 0.0015 - val_loss: 2.6411e-04\n",
            "Epoch 107/200\n",
            "36/36 [==============================] - 0s 7ms/step - loss: 0.0018 - val_loss: 1.0841e-04\n",
            "Epoch 108/200\n",
            "36/36 [==============================] - 0s 7ms/step - loss: 0.0017 - val_loss: 1.1289e-04\n",
            "Epoch 109/200\n",
            "36/36 [==============================] - 0s 7ms/step - loss: 0.0019 - val_loss: 1.4570e-04\n",
            "Epoch 110/200\n",
            "36/36 [==============================] - 0s 8ms/step - loss: 0.0018 - val_loss: 1.0251e-04\n",
            "Epoch 111/200\n",
            "36/36 [==============================] - 0s 7ms/step - loss: 0.0020 - val_loss: 2.1132e-04\n",
            "Epoch 112/200\n",
            "36/36 [==============================] - 0s 7ms/step - loss: 0.0016 - val_loss: 3.1161e-04\n",
            "Epoch 113/200\n",
            "36/36 [==============================] - 0s 7ms/step - loss: 0.0027 - val_loss: 2.3881e-04\n",
            "Epoch 114/200\n",
            "36/36 [==============================] - 0s 8ms/step - loss: 0.0021 - val_loss: 1.1759e-04\n",
            "Epoch 115/200\n",
            "36/36 [==============================] - 0s 7ms/step - loss: 0.0019 - val_loss: 1.4495e-04\n",
            "Epoch 116/200\n",
            "36/36 [==============================] - 0s 7ms/step - loss: 0.0019 - val_loss: 2.0960e-04\n",
            "Epoch 117/200\n",
            "36/36 [==============================] - 0s 7ms/step - loss: 0.0018 - val_loss: 1.0816e-04\n",
            "Epoch 118/200\n",
            "36/36 [==============================] - 0s 6ms/step - loss: 0.0016 - val_loss: 4.6104e-04\n",
            "Epoch 119/200\n",
            "36/36 [==============================] - 0s 7ms/step - loss: 0.0021 - val_loss: 2.2652e-04\n",
            "Epoch 120/200\n",
            "36/36 [==============================] - 0s 7ms/step - loss: 0.0022 - val_loss: 2.4334e-04\n",
            "Epoch 121/200\n",
            "36/36 [==============================] - 0s 7ms/step - loss: 0.0016 - val_loss: 1.3459e-04\n",
            "Epoch 122/200\n",
            "36/36 [==============================] - 0s 7ms/step - loss: 0.0022 - val_loss: 2.7638e-04\n",
            "Epoch 123/200\n",
            "36/36 [==============================] - 0s 7ms/step - loss: 0.0017 - val_loss: 1.3837e-04\n",
            "Epoch 124/200\n",
            "36/36 [==============================] - 0s 7ms/step - loss: 0.0021 - val_loss: 1.1928e-04\n",
            "Epoch 125/200\n",
            "36/36 [==============================] - 0s 7ms/step - loss: 0.0016 - val_loss: 1.5953e-04\n",
            "Epoch 126/200\n",
            "36/36 [==============================] - 0s 7ms/step - loss: 0.0016 - val_loss: 1.2936e-04\n",
            "Epoch 127/200\n",
            "36/36 [==============================] - 0s 7ms/step - loss: 0.0016 - val_loss: 2.1320e-04\n",
            "Epoch 128/200\n",
            "36/36 [==============================] - 0s 7ms/step - loss: 0.0014 - val_loss: 2.8271e-04\n",
            "Epoch 129/200\n",
            "36/36 [==============================] - 0s 7ms/step - loss: 0.0018 - val_loss: 2.2111e-04\n",
            "Epoch 130/200\n",
            "36/36 [==============================] - 0s 7ms/step - loss: 0.0015 - val_loss: 2.5065e-04\n",
            "Epoch 131/200\n",
            "36/36 [==============================] - 0s 7ms/step - loss: 0.0032 - val_loss: 2.4803e-04\n",
            "Epoch 132/200\n",
            "36/36 [==============================] - 0s 7ms/step - loss: 0.0020 - val_loss: 2.1679e-04\n",
            "Epoch 133/200\n",
            "36/36 [==============================] - 0s 7ms/step - loss: 0.0014 - val_loss: 1.2783e-04\n",
            "Epoch 134/200\n",
            "36/36 [==============================] - 0s 7ms/step - loss: 0.0020 - val_loss: 1.1352e-04\n",
            "Epoch 135/200\n",
            "36/36 [==============================] - 0s 7ms/step - loss: 0.0015 - val_loss: 2.0004e-04\n",
            "Epoch 136/200\n",
            "36/36 [==============================] - 0s 7ms/step - loss: 0.0015 - val_loss: 3.0522e-04\n",
            "Epoch 137/200\n",
            "36/36 [==============================] - 0s 7ms/step - loss: 0.0014 - val_loss: 2.4347e-04\n",
            "Epoch 138/200\n",
            "36/36 [==============================] - 0s 6ms/step - loss: 0.0017 - val_loss: 1.3459e-04\n",
            "Epoch 139/200\n",
            "36/36 [==============================] - 0s 7ms/step - loss: 0.0022 - val_loss: 1.3208e-04\n",
            "Epoch 140/200\n",
            "36/36 [==============================] - 0s 7ms/step - loss: 0.0016 - val_loss: 6.7853e-04\n",
            "Epoch 141/200\n",
            "36/36 [==============================] - 0s 7ms/step - loss: 0.0014 - val_loss: 1.1859e-04\n",
            "Epoch 142/200\n",
            "36/36 [==============================] - 0s 7ms/step - loss: 0.0017 - val_loss: 2.9557e-04\n",
            "Epoch 143/200\n",
            "36/36 [==============================] - 0s 7ms/step - loss: 0.0023 - val_loss: 2.1267e-04\n",
            "Epoch 144/200\n",
            "36/36 [==============================] - 0s 7ms/step - loss: 0.0021 - val_loss: 1.5119e-04\n",
            "Epoch 145/200\n",
            "36/36 [==============================] - 0s 7ms/step - loss: 0.0026 - val_loss: 2.4565e-04\n",
            "Epoch 146/200\n",
            "36/36 [==============================] - 0s 7ms/step - loss: 0.0022 - val_loss: 2.4388e-04\n",
            "Epoch 147/200\n",
            "36/36 [==============================] - 0s 7ms/step - loss: 0.0016 - val_loss: 1.7904e-04\n",
            "Epoch 148/200\n",
            "36/36 [==============================] - 0s 8ms/step - loss: 0.0013 - val_loss: 1.1814e-04\n",
            "Epoch 149/200\n",
            "36/36 [==============================] - 0s 7ms/step - loss: 0.0016 - val_loss: 1.5238e-04\n",
            "Epoch 150/200\n",
            "36/36 [==============================] - 0s 7ms/step - loss: 0.0019 - val_loss: 1.2040e-04\n",
            "Epoch 151/200\n",
            "36/36 [==============================] - 0s 7ms/step - loss: 0.0016 - val_loss: 1.9914e-04\n",
            "Epoch 152/200\n",
            "36/36 [==============================] - 0s 7ms/step - loss: 0.0014 - val_loss: 1.7338e-04\n",
            "Epoch 153/200\n",
            "36/36 [==============================] - 0s 7ms/step - loss: 0.0014 - val_loss: 2.8273e-04\n",
            "Epoch 154/200\n",
            "36/36 [==============================] - 0s 7ms/step - loss: 0.0018 - val_loss: 2.8878e-04\n",
            "Epoch 155/200\n",
            "36/36 [==============================] - 0s 7ms/step - loss: 0.0016 - val_loss: 1.2087e-04\n",
            "Epoch 156/200\n",
            "36/36 [==============================] - 0s 7ms/step - loss: 0.0013 - val_loss: 1.1762e-04\n",
            "Epoch 157/200\n",
            "36/36 [==============================] - 0s 7ms/step - loss: 0.0021 - val_loss: 4.2576e-04\n",
            "Epoch 158/200\n",
            "36/36 [==============================] - 0s 8ms/step - loss: 0.0013 - val_loss: 5.4753e-04\n",
            "Epoch 159/200\n",
            "36/36 [==============================] - 0s 8ms/step - loss: 0.0017 - val_loss: 9.9171e-05\n",
            "Epoch 160/200\n",
            "36/36 [==============================] - 0s 8ms/step - loss: 0.0014 - val_loss: 1.3872e-04\n",
            "Epoch 161/200\n",
            "36/36 [==============================] - 0s 7ms/step - loss: 9.3616e-04 - val_loss: 1.2460e-04\n",
            "Epoch 162/200\n",
            "36/36 [==============================] - 0s 7ms/step - loss: 0.0013 - val_loss: 1.7166e-04\n",
            "Epoch 163/200\n",
            "36/36 [==============================] - 0s 7ms/step - loss: 0.0014 - val_loss: 1.2568e-04\n",
            "Epoch 164/200\n",
            "36/36 [==============================] - 0s 7ms/step - loss: 0.0016 - val_loss: 4.7735e-04\n",
            "Epoch 165/200\n",
            "36/36 [==============================] - 0s 7ms/step - loss: 0.0015 - val_loss: 1.3454e-04\n",
            "Epoch 166/200\n",
            "36/36 [==============================] - 0s 7ms/step - loss: 0.0017 - val_loss: 2.4465e-04\n",
            "Epoch 167/200\n",
            "36/36 [==============================] - 0s 7ms/step - loss: 0.0013 - val_loss: 1.1594e-04\n",
            "Epoch 168/200\n",
            "36/36 [==============================] - 0s 7ms/step - loss: 0.0020 - val_loss: 1.5952e-04\n",
            "Epoch 169/200\n",
            "36/36 [==============================] - 0s 7ms/step - loss: 0.0013 - val_loss: 1.1207e-04\n",
            "Epoch 170/200\n",
            "36/36 [==============================] - 0s 8ms/step - loss: 0.0028 - val_loss: 1.1063e-04\n",
            "Epoch 171/200\n",
            "36/36 [==============================] - 0s 8ms/step - loss: 0.0013 - val_loss: 1.9801e-04\n",
            "Epoch 172/200\n",
            "36/36 [==============================] - 0s 7ms/step - loss: 0.0017 - val_loss: 1.3748e-04\n",
            "Epoch 173/200\n",
            "36/36 [==============================] - 0s 8ms/step - loss: 0.0015 - val_loss: 1.3493e-04\n",
            "Epoch 174/200\n",
            "36/36 [==============================] - 0s 7ms/step - loss: 0.0013 - val_loss: 2.1754e-04\n",
            "Epoch 175/200\n",
            "36/36 [==============================] - 0s 8ms/step - loss: 0.0013 - val_loss: 1.8962e-04\n",
            "Epoch 176/200\n",
            "36/36 [==============================] - 0s 7ms/step - loss: 0.0016 - val_loss: 1.8659e-04\n",
            "Epoch 177/200\n",
            "36/36 [==============================] - 0s 8ms/step - loss: 0.0015 - val_loss: 9.8257e-05\n",
            "Epoch 178/200\n",
            "36/36 [==============================] - 0s 7ms/step - loss: 0.0015 - val_loss: 1.3017e-04\n",
            "Epoch 179/200\n",
            "36/36 [==============================] - 0s 7ms/step - loss: 0.0013 - val_loss: 4.2433e-04\n",
            "Epoch 180/200\n",
            "36/36 [==============================] - 0s 7ms/step - loss: 0.0014 - val_loss: 9.2202e-05\n",
            "Epoch 181/200\n",
            "36/36 [==============================] - 0s 7ms/step - loss: 0.0014 - val_loss: 1.0797e-04\n",
            "Epoch 182/200\n",
            "36/36 [==============================] - 0s 7ms/step - loss: 0.0022 - val_loss: 3.3084e-04\n",
            "Epoch 183/200\n",
            "36/36 [==============================] - 0s 8ms/step - loss: 0.0011 - val_loss: 2.2192e-04\n",
            "Epoch 184/200\n",
            "36/36 [==============================] - 0s 8ms/step - loss: 0.0013 - val_loss: 1.4053e-04\n",
            "Epoch 185/200\n",
            "36/36 [==============================] - 0s 7ms/step - loss: 0.0017 - val_loss: 2.2315e-04\n",
            "Epoch 186/200\n",
            "36/36 [==============================] - 0s 7ms/step - loss: 0.0011 - val_loss: 1.1495e-04\n",
            "Epoch 187/200\n",
            "36/36 [==============================] - 0s 7ms/step - loss: 0.0012 - val_loss: 1.0998e-04\n",
            "Epoch 188/200\n",
            "36/36 [==============================] - 0s 7ms/step - loss: 0.0012 - val_loss: 9.9590e-05\n",
            "Epoch 189/200\n",
            "36/36 [==============================] - 0s 7ms/step - loss: 0.0016 - val_loss: 9.7313e-05\n",
            "Epoch 190/200\n",
            "36/36 [==============================] - 0s 8ms/step - loss: 0.0026 - val_loss: 1.3968e-04\n",
            "Epoch 191/200\n",
            "36/36 [==============================] - 0s 7ms/step - loss: 0.0012 - val_loss: 1.3202e-04\n",
            "Epoch 192/200\n",
            "36/36 [==============================] - 0s 8ms/step - loss: 0.0013 - val_loss: 1.1905e-04\n",
            "Epoch 193/200\n",
            "36/36 [==============================] - 0s 8ms/step - loss: 0.0012 - val_loss: 2.0898e-04\n",
            "Epoch 194/200\n",
            "36/36 [==============================] - 0s 8ms/step - loss: 0.0025 - val_loss: 1.2870e-04\n",
            "Epoch 195/200\n",
            "36/36 [==============================] - 0s 7ms/step - loss: 0.0020 - val_loss: 1.3272e-04\n",
            "Epoch 196/200\n",
            "36/36 [==============================] - 0s 7ms/step - loss: 0.0014 - val_loss: 2.5573e-04\n",
            "Epoch 197/200\n",
            "36/36 [==============================] - 0s 7ms/step - loss: 0.0012 - val_loss: 1.2809e-04\n",
            "Epoch 198/200\n",
            "36/36 [==============================] - 0s 7ms/step - loss: 0.0015 - val_loss: 1.1575e-04\n",
            "Epoch 199/200\n",
            "36/36 [==============================] - 0s 8ms/step - loss: 9.5944e-04 - val_loss: 9.5716e-05\n",
            "Epoch 200/200\n",
            "36/36 [==============================] - 0s 8ms/step - loss: 0.0016 - val_loss: 2.0674e-04\n",
            "compilation time :  60.278141260147095\n"
          ],
          "name": "stdout"
        }
      ]
    },
    {
      "cell_type": "code",
      "metadata": {
        "colab": {
          "base_uri": "https://localhost:8080/",
          "height": 295
        },
        "id": "PdEVrODJfaL0",
        "outputId": "cc921e77-9792-4101-e691-5a2ffa77ed6f"
      },
      "source": [
        "history_dict = history.history\n",
        "history_dict.keys()\n",
        "\n",
        "loss = history.history['loss']\n",
        "val_loss = history.history['val_loss']\n",
        "\n",
        "epochs = range(1, len(loss) + 1)\n",
        "\n",
        "# \"bo\" is for \"blue dot\"\n",
        "plt.plot(epochs, loss, 'r', label='Training loss')\n",
        "# b is for \"solid blue line\"\n",
        "plt.plot(epochs, val_loss, 'b', label='Validation loss')\n",
        "plt.title('Training and validation loss')\n",
        "plt.xlabel('Epochs')\n",
        "plt.ylabel('Loss')\n",
        "plt.legend()\n",
        "\n",
        "plt.show()"
      ],
      "execution_count": 20,
      "outputs": [
        {
          "output_type": "display_data",
          "data": {
            "image/png": "[encoded data removed]",
            "text/plain": [
              "<Figure size 432x288 with 1 Axes>"
            ]
          },
          "metadata": {
            "tags": [],
            "needs_background": "light"
          }
        }
      ]
    },
    {
      "cell_type": "code",
      "metadata": {
        "colab": {
          "base_uri": "https://localhost:8080/"
        },
        "id": "eLk2bjXBfiGz",
        "outputId": "cc9a0f64-d69e-486e-9128-d10e71bd7e77"
      },
      "source": [
        "test_X = np.array(test_X)\n",
        "test_X = np.reshape(test_X, (test_X.shape[0],test_X.shape[1],1))\n",
        "\n",
        "test_Y = np.array(test_Y)\n",
        "test_Y = np.reshape(test_Y, (-1,1))\n",
        "\n",
        "\n",
        "predicted_stock_price = model.predict(test_X)\n",
        "# Inverse transform is to denormalize the predicted_stock_price\n",
        "predicted_stock_price = scaler.inverse_transform(predicted_stock_price)\n",
        "google_stocks_prices = scaler.inverse_transform(test_Y)\n",
        "predicted_stock_price.shape"
      ],
      "execution_count": 21,
      "outputs": [
        {
          "output_type": "execute_result",
          "data": {
            "text/plain": [
              "(439, 1)"
            ]
          },
          "metadata": {
            "tags": []
          },
          "execution_count": 21
        }
      ]
    },
    {
      "cell_type": "code",
      "metadata": {
        "colab": {
          "base_uri": "https://localhost:8080/",
          "height": 389
        },
        "id": "hWoF_fUqfk6Z",
        "outputId": "60af7ee7-2ac9-4b6a-9b79-eeed1b352b14"
      },
      "source": [
        "plt.figure(figsize=(8,6))\n",
        "plt.subplot(1,1,1)\n",
        "plt.plot(predicted_stock_price, linewidth=1.2, color='darkred', label='Predicted Google Stock price')\n",
        "plt.plot(google_stocks_prices, linewidth=1.2, color='green', label='Real Google Stock price')\n",
        "plt.xlabel('Days', fontsize=8)\n",
        "plt.ylabel('Google Stock Price', fontsize=8)\n",
        "plt.legend(loc='best', fontsize=10)\n",
        "plt.show()"
      ],
      "execution_count": 22,
      "outputs": [
        {
          "output_type": "display_data",
          "data": {
            "image/png": "[encoded data removed]",
            "text/plain": [
              "<Figure size 576x432 with 1 Axes>"
            ]
          },
          "metadata": {
            "tags": [],
            "needs_background": "light"
          }
        }
      ]
    },
    {
      "cell_type": "code",
      "metadata": {
        "id": "0SpGVHiMfnkS"
      },
      "source": [
        ""
      ],
      "execution_count": null,
      "outputs": []
    }
  ]
}